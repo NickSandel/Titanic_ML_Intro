{
 "cells": [
  {
   "cell_type": "code",
   "execution_count": 1,
   "metadata": {},
   "outputs": [],
   "source": [
    "import os\n",
    "import pandas as pd\n",
    "import numpy as np\n",
    "\n",
    "def load_titanic_data(filename, folder=\"Data\"):\n",
    "    csv_path = os.path.join(folder, filename)\n",
    "    return pd.read_csv(csv_path)"
   ]
  },
  {
   "cell_type": "code",
   "execution_count": 62,
   "metadata": {},
   "outputs": [
    {
     "data": {
      "text/html": [
       "<div>\n",
       "<style scoped>\n",
       "    .dataframe tbody tr th:only-of-type {\n",
       "        vertical-align: middle;\n",
       "    }\n",
       "\n",
       "    .dataframe tbody tr th {\n",
       "        vertical-align: top;\n",
       "    }\n",
       "\n",
       "    .dataframe thead th {\n",
       "        text-align: right;\n",
       "    }\n",
       "</style>\n",
       "<table border=\"1\" class=\"dataframe\">\n",
       "  <thead>\n",
       "    <tr style=\"text-align: right;\">\n",
       "      <th></th>\n",
       "      <th>PassengerId</th>\n",
       "      <th>Survived</th>\n",
       "      <th>Pclass</th>\n",
       "      <th>Name</th>\n",
       "      <th>Sex</th>\n",
       "      <th>Age</th>\n",
       "      <th>SibSp</th>\n",
       "      <th>Parch</th>\n",
       "      <th>Ticket</th>\n",
       "      <th>Fare</th>\n",
       "      <th>Cabin</th>\n",
       "      <th>Embarked</th>\n",
       "    </tr>\n",
       "  </thead>\n",
       "  <tbody>\n",
       "    <tr>\n",
       "      <th>0</th>\n",
       "      <td>1</td>\n",
       "      <td>0</td>\n",
       "      <td>3</td>\n",
       "      <td>Braund, Mr. Owen Harris</td>\n",
       "      <td>male</td>\n",
       "      <td>22.0</td>\n",
       "      <td>1</td>\n",
       "      <td>0</td>\n",
       "      <td>A/5 21171</td>\n",
       "      <td>7.2500</td>\n",
       "      <td>NaN</td>\n",
       "      <td>S</td>\n",
       "    </tr>\n",
       "    <tr>\n",
       "      <th>1</th>\n",
       "      <td>2</td>\n",
       "      <td>1</td>\n",
       "      <td>1</td>\n",
       "      <td>Cumings, Mrs. John Bradley (Florence Briggs Th...</td>\n",
       "      <td>female</td>\n",
       "      <td>38.0</td>\n",
       "      <td>1</td>\n",
       "      <td>0</td>\n",
       "      <td>PC 17599</td>\n",
       "      <td>71.2833</td>\n",
       "      <td>C85</td>\n",
       "      <td>C</td>\n",
       "    </tr>\n",
       "    <tr>\n",
       "      <th>2</th>\n",
       "      <td>3</td>\n",
       "      <td>1</td>\n",
       "      <td>3</td>\n",
       "      <td>Heikkinen, Miss. Laina</td>\n",
       "      <td>female</td>\n",
       "      <td>26.0</td>\n",
       "      <td>0</td>\n",
       "      <td>0</td>\n",
       "      <td>STON/O2. 3101282</td>\n",
       "      <td>7.9250</td>\n",
       "      <td>NaN</td>\n",
       "      <td>S</td>\n",
       "    </tr>\n",
       "    <tr>\n",
       "      <th>3</th>\n",
       "      <td>4</td>\n",
       "      <td>1</td>\n",
       "      <td>1</td>\n",
       "      <td>Futrelle, Mrs. Jacques Heath (Lily May Peel)</td>\n",
       "      <td>female</td>\n",
       "      <td>35.0</td>\n",
       "      <td>1</td>\n",
       "      <td>0</td>\n",
       "      <td>113803</td>\n",
       "      <td>53.1000</td>\n",
       "      <td>C123</td>\n",
       "      <td>S</td>\n",
       "    </tr>\n",
       "    <tr>\n",
       "      <th>4</th>\n",
       "      <td>5</td>\n",
       "      <td>0</td>\n",
       "      <td>3</td>\n",
       "      <td>Allen, Mr. William Henry</td>\n",
       "      <td>male</td>\n",
       "      <td>35.0</td>\n",
       "      <td>0</td>\n",
       "      <td>0</td>\n",
       "      <td>373450</td>\n",
       "      <td>8.0500</td>\n",
       "      <td>NaN</td>\n",
       "      <td>S</td>\n",
       "    </tr>\n",
       "  </tbody>\n",
       "</table>\n",
       "</div>"
      ],
      "text/plain": [
       "   PassengerId  Survived  Pclass  \\\n",
       "0            1         0       3   \n",
       "1            2         1       1   \n",
       "2            3         1       3   \n",
       "3            4         1       1   \n",
       "4            5         0       3   \n",
       "\n",
       "                                                Name     Sex   Age  SibSp  \\\n",
       "0                            Braund, Mr. Owen Harris    male  22.0      1   \n",
       "1  Cumings, Mrs. John Bradley (Florence Briggs Th...  female  38.0      1   \n",
       "2                             Heikkinen, Miss. Laina  female  26.0      0   \n",
       "3       Futrelle, Mrs. Jacques Heath (Lily May Peel)  female  35.0      1   \n",
       "4                           Allen, Mr. William Henry    male  35.0      0   \n",
       "\n",
       "   Parch            Ticket     Fare Cabin Embarked  \n",
       "0      0         A/5 21171   7.2500   NaN        S  \n",
       "1      0          PC 17599  71.2833   C85        C  \n",
       "2      0  STON/O2. 3101282   7.9250   NaN        S  \n",
       "3      0            113803  53.1000  C123        S  \n",
       "4      0            373450   8.0500   NaN        S  "
      ]
     },
     "execution_count": 62,
     "metadata": {},
     "output_type": "execute_result"
    }
   ],
   "source": [
    "titanic_train = load_titanic_data(\"train.csv\")\n",
    "titanic_train.head()"
   ]
  },
  {
   "cell_type": "code",
   "execution_count": 3,
   "metadata": {},
   "outputs": [
    {
     "name": "stdout",
     "output_type": "stream",
     "text": [
      "<class 'pandas.core.frame.DataFrame'>\n",
      "RangeIndex: 891 entries, 0 to 890\n",
      "Data columns (total 12 columns):\n",
      "PassengerId    891 non-null int64\n",
      "Survived       891 non-null int64\n",
      "Pclass         891 non-null int64\n",
      "Name           891 non-null object\n",
      "Sex            891 non-null object\n",
      "Age            714 non-null float64\n",
      "SibSp          891 non-null int64\n",
      "Parch          891 non-null int64\n",
      "Ticket         891 non-null object\n",
      "Fare           891 non-null float64\n",
      "Cabin          204 non-null object\n",
      "Embarked       889 non-null object\n",
      "dtypes: float64(2), int64(5), object(5)\n",
      "memory usage: 83.6+ KB\n"
     ]
    }
   ],
   "source": [
    "titanic_train.info()"
   ]
  },
  {
   "cell_type": "markdown",
   "metadata": {},
   "source": [
    "So initial lessons to learn: Age has over 150 missing values which is significant in this dataset size Cabin has 22% population which is very poor could initially transform into a new column of has cabin which is binary, not sure if a location from cabin can be gleaned to help predict survival rates based on where in the ship passengers had cabins? Maybe those with cabins could be more likely to have been in them at the time of sinking?\n",
    "\n",
    "Need to remove PassengerId from training process\n",
    "\n",
    "Only numerical fields which are related numerical - age and fare. The rest are categorical"
   ]
  },
  {
   "cell_type": "code",
   "execution_count": 4,
   "metadata": {},
   "outputs": [
    {
     "data": {
      "text/plain": [
       "22.895622895622896"
      ]
     },
     "execution_count": 4,
     "metadata": {},
     "output_type": "execute_result"
    }
   ],
   "source": [
    "204/891 * 100 #Cabin population rate"
   ]
  },
  {
   "cell_type": "code",
   "execution_count": 866,
   "metadata": {},
   "outputs": [
    {
     "data": {
      "text/html": [
       "<div>\n",
       "<style scoped>\n",
       "    .dataframe tbody tr th:only-of-type {\n",
       "        vertical-align: middle;\n",
       "    }\n",
       "\n",
       "    .dataframe tbody tr th {\n",
       "        vertical-align: top;\n",
       "    }\n",
       "\n",
       "    .dataframe thead th {\n",
       "        text-align: right;\n",
       "    }\n",
       "</style>\n",
       "<table border=\"1\" class=\"dataframe\">\n",
       "  <thead>\n",
       "    <tr style=\"text-align: right;\">\n",
       "      <th></th>\n",
       "      <th>PassengerId</th>\n",
       "      <th>Survived</th>\n",
       "      <th>Pclass</th>\n",
       "      <th>Age</th>\n",
       "      <th>SibSp</th>\n",
       "      <th>Parch</th>\n",
       "      <th>Fare</th>\n",
       "    </tr>\n",
       "  </thead>\n",
       "  <tbody>\n",
       "    <tr>\n",
       "      <th>count</th>\n",
       "      <td>891.000000</td>\n",
       "      <td>891.000000</td>\n",
       "      <td>891.000000</td>\n",
       "      <td>714.000000</td>\n",
       "      <td>891.000000</td>\n",
       "      <td>891.000000</td>\n",
       "      <td>891.000000</td>\n",
       "    </tr>\n",
       "    <tr>\n",
       "      <th>mean</th>\n",
       "      <td>446.000000</td>\n",
       "      <td>0.383838</td>\n",
       "      <td>2.308642</td>\n",
       "      <td>29.699118</td>\n",
       "      <td>0.523008</td>\n",
       "      <td>0.381594</td>\n",
       "      <td>32.204208</td>\n",
       "    </tr>\n",
       "    <tr>\n",
       "      <th>std</th>\n",
       "      <td>257.353842</td>\n",
       "      <td>0.486592</td>\n",
       "      <td>0.836071</td>\n",
       "      <td>14.526497</td>\n",
       "      <td>1.102743</td>\n",
       "      <td>0.806057</td>\n",
       "      <td>49.693429</td>\n",
       "    </tr>\n",
       "    <tr>\n",
       "      <th>min</th>\n",
       "      <td>1.000000</td>\n",
       "      <td>0.000000</td>\n",
       "      <td>1.000000</td>\n",
       "      <td>0.420000</td>\n",
       "      <td>0.000000</td>\n",
       "      <td>0.000000</td>\n",
       "      <td>0.000000</td>\n",
       "    </tr>\n",
       "    <tr>\n",
       "      <th>25%</th>\n",
       "      <td>223.500000</td>\n",
       "      <td>0.000000</td>\n",
       "      <td>2.000000</td>\n",
       "      <td>20.125000</td>\n",
       "      <td>0.000000</td>\n",
       "      <td>0.000000</td>\n",
       "      <td>7.910400</td>\n",
       "    </tr>\n",
       "    <tr>\n",
       "      <th>50%</th>\n",
       "      <td>446.000000</td>\n",
       "      <td>0.000000</td>\n",
       "      <td>3.000000</td>\n",
       "      <td>28.000000</td>\n",
       "      <td>0.000000</td>\n",
       "      <td>0.000000</td>\n",
       "      <td>14.454200</td>\n",
       "    </tr>\n",
       "    <tr>\n",
       "      <th>75%</th>\n",
       "      <td>668.500000</td>\n",
       "      <td>1.000000</td>\n",
       "      <td>3.000000</td>\n",
       "      <td>38.000000</td>\n",
       "      <td>1.000000</td>\n",
       "      <td>0.000000</td>\n",
       "      <td>31.000000</td>\n",
       "    </tr>\n",
       "    <tr>\n",
       "      <th>max</th>\n",
       "      <td>891.000000</td>\n",
       "      <td>1.000000</td>\n",
       "      <td>3.000000</td>\n",
       "      <td>80.000000</td>\n",
       "      <td>8.000000</td>\n",
       "      <td>6.000000</td>\n",
       "      <td>512.329200</td>\n",
       "    </tr>\n",
       "  </tbody>\n",
       "</table>\n",
       "</div>"
      ],
      "text/plain": [
       "       PassengerId    Survived      Pclass         Age       SibSp  \\\n",
       "count   891.000000  891.000000  891.000000  714.000000  891.000000   \n",
       "mean    446.000000    0.383838    2.308642   29.699118    0.523008   \n",
       "std     257.353842    0.486592    0.836071   14.526497    1.102743   \n",
       "min       1.000000    0.000000    1.000000    0.420000    0.000000   \n",
       "25%     223.500000    0.000000    2.000000   20.125000    0.000000   \n",
       "50%     446.000000    0.000000    3.000000   28.000000    0.000000   \n",
       "75%     668.500000    1.000000    3.000000   38.000000    1.000000   \n",
       "max     891.000000    1.000000    3.000000   80.000000    8.000000   \n",
       "\n",
       "            Parch        Fare  \n",
       "count  891.000000  891.000000  \n",
       "mean     0.381594   32.204208  \n",
       "std      0.806057   49.693429  \n",
       "min      0.000000    0.000000  \n",
       "25%      0.000000    7.910400  \n",
       "50%      0.000000   14.454200  \n",
       "75%      0.000000   31.000000  \n",
       "max      6.000000  512.329200  "
      ]
     },
     "execution_count": 866,
     "metadata": {},
     "output_type": "execute_result"
    }
   ],
   "source": [
    "titanic_train.describe()"
   ]
  },
  {
   "cell_type": "code",
   "execution_count": 506,
   "metadata": {},
   "outputs": [
    {
     "data": {
      "image/png": "[encoded data removed]",
      "text/plain": [
       "<Figure size 1440x1080 with 9 Axes>"
      ]
     },
     "metadata": {},
     "output_type": "display_data"
    }
   ],
   "source": [
    "%matplotlib inline\n",
    "import matplotlib.pyplot as plt\n",
    "titanic_train.hist(bins=50, figsize=(20,15))\n",
    "plt.show()"
   ]
  },
  {
   "cell_type": "markdown",
   "metadata": {},
   "source": [
    "Splitting out a title field from the name seems sensible and setting it's values to true/false\n",
    "Flagging if a passenger had a Cabin or not - perhaps cabin type matters as well\n",
    "Trying to combine Parch and SibSp into a Family feature - saw someone else had done this and sounded sensible"
   ]
  },
  {
   "cell_type": "code",
   "execution_count": 834,
   "metadata": {},
   "outputs": [],
   "source": [
    "def AddTitle(data):\n",
    "    data[\"Mr\"] = 0\n",
    "    data[\"Mrs\"] = 0\n",
    "    data[\"Master\"] = 0\n",
    "    data[\"Miss\"] = 0\n",
    "    data[\"Other\"] = 0\n",
    "    data.loc[data[\"Name\"].str.contains(\"Mr.\", regex=False), \"Mr\"] = 1\n",
    "    data.loc[data[\"Name\"].str.contains(\"Mrs.\", regex=False), \"Mrs\"] = 1\n",
    "    data.loc[data[\"Name\"].str.contains(\"Master.\", regex=False), \"Master\"] = 1\n",
    "    data.loc[data[\"Name\"].str.contains(\"Miss.\", regex=False), \"Miss\"] = 1\n",
    "    data.loc[data[\"Mr\"] + data[\"Mrs\"] + data[\"Master\"] + data[\"Miss\"] == 0, \"Other\"] = 1\n",
    "    \n",
    "def AddTitleCategory(data):\n",
    "    data[\"Title\"] = \"Other\"\n",
    "    data.loc[data[\"Name\"].str.contains(\"Mr.\", regex=False), \"Title\"] = \"Mr.\"\n",
    "    data.loc[data[\"Name\"].str.contains(\"Mrs.\", regex=False), \"Title\"] = \"Mrs.\"\n",
    "    data.loc[data[\"Name\"].str.contains(\"Master.\", regex=False), \"Title\"] = \"Master.\"\n",
    "    data.loc[data[\"Name\"].str.contains(\"Miss.\", regex=False), \"Title\"] = \"Miss.\"\n",
    "    \n",
    "def AddHasCabin(data):\n",
    "    data[\"HasCabin\"] = data[\"Cabin\"]\n",
    "    data[\"HasCabin\"] = data[\"HasCabin\"].fillna(value=0)\n",
    "    data.loc[data[\"HasCabin\"] != 0, \"HasCabin\"] = 1\n",
    "    \n",
    "def CombineFamily(data):\n",
    "    data[\"Family\"] = data[\"Parch\"] + data[\"SibSp\"]\n",
    "    \n",
    "def CabinType(data):\n",
    "    data[\"CabinLetter\"] = data[\"Cabin\"].str[0]\n",
    "    \n",
    "def AgeBracketsCategory(data):\n",
    "    data[\"AgeBracket\"] = \"\"\n",
    "    data.loc[data[\"Age\"] < 3, \"AgeBracket\"] = \"Baby\"\n",
    "    data.loc[(data[\"Age\"] >= 3) & (data[\"Age\"] < 9), \"AgeBracket\"] = \"Child\"\n",
    "    data.loc[(data[\"Age\"] >= 9) & (data[\"Age\"] < 15), \"AgeBracket\"] = \"OldChild\"\n",
    "    data.loc[(data[\"Age\"] >= 15) & (data[\"Age\"] < 22), \"AgeBracket\"] = \"YoungAdult\"\n",
    "    data.loc[(data[\"Age\"] >= 22) & (data[\"Age\"] < 40), \"AgeBracket\"] = \"Adult\"\n",
    "    data.loc[data[\"Age\"] >= 40, \"AgeBracket\"] = \"OldAdult\"\n",
    "    \n",
    "def AgeBrackets(data):\n",
    "    data[\"Baby\"] = 0\n",
    "    data[\"Child\"] = 0\n",
    "    data[\"YoungAdult\"] = 0\n",
    "    data[\"Adult\"] = 0\n",
    "    data[\"OldAdult\"] = 0\n",
    "    data.loc[data[\"Age\"] < 3, \"Baby\"] = 1\n",
    "    data.loc[(data[\"Age\"] >= 3) & (data[\"Age\"] < 9), \"YoungChild\"] = 1\n",
    "    data.loc[(data[\"Age\"] >= 9) & (data[\"Age\"] < 15), \"OldChild\"] = 1\n",
    "    data.loc[(data[\"Age\"] >= 15) & (data[\"Age\"] < 22), \"YoungAdult\"] = 1\n",
    "    data.loc[(data[\"Age\"] >= 22) & (data[\"Age\"] < 40), \"Adult\"] = 1\n",
    "    data.loc[data[\"Age\"] >= 40, \"OldAdult\"] = 1\n",
    "    \n",
    "#Got fare details from: http://www.keyflux.com/titanic/facts.htm \n",
    "#However the brackets don't overlap well so making sure all values are covered\n",
    "def FareBrackets(data):\n",
    "    data[\"NoFare\"] = 0\n",
    "    data[\"ThirdClass\"] = 0\n",
    "    data[\"SecondClass\"] = 0\n",
    "    data[\"FirstClassBerthA\"] = 0\n",
    "    data[\"FirstClassBerthB\"] = 0\n",
    "    data[\"FirstClassParlourSuite\"] = 0\n",
    "    data.loc[data[\"Fare\"] == 0, \"NoFare\"] = 1\n",
    "    data.loc[(data[\"Fare\"] > 0) & (data[\"Fare\"] <= 8), \"ThirdClass\"] = 1\n",
    "    data.loc[(data[\"Fare\"] > 8) & (data[\"Fare\"] <= 30), \"SecondClass\"] = 1\n",
    "    data.loc[(data[\"Fare\"] > 30) & (data[\"Fare\"] < 870), \"FirstClassBerth\"] = 1\n",
    "    #data.loc[(data[\"Fare\"] > 30) & (data[\"Fare\"] <= 75), \"FirstClassBerthA\"] = 1 #Splitting as there appears to be less survival below 75 fare\n",
    "    #data.loc[(data[\"Fare\"] > 75) & (data[\"Fare\"] < 870), \"FirstClassBerthB\"] = 1\n",
    "    data.loc[data[\"Fare\"] >= 870, \"FirstClassParlourSuite\"] = 1 #Doesn't look like any data points hit this but leaving in anyway\n",
    "    \n",
    "def FareBracketsCategory(data):\n",
    "    data[\"TicketType\"] = \"\"\n",
    "    data.loc[data[\"Fare\"] == 0, \"TicketType\"] = \"NoFare\"\n",
    "    data.loc[(data[\"Fare\"] > 0) & (data[\"Fare\"] <= 8), \"TicketType\"] = \"ThirdClass\"\n",
    "    data.loc[(data[\"Fare\"] > 8) & (data[\"Fare\"] <= 30), \"TicketType\"] = \"SecondClass\"\n",
    "    data.loc[(data[\"Fare\"] > 30) & (data[\"Fare\"] < 870), \"TicketType\"] = \"FirstClassBerth\"\n",
    "    #data.loc[(data[\"Fare\"] > 30) & (data[\"Fare\"] <= 75), \"TicketType\"] = \"FirstClassBerthA\" #Splitting as there appears to be less survival below 75 fare\n",
    "    #data.loc[(data[\"Fare\"] > 75) & (data[\"Fare\"] < 870), \"TicketType\"] = \"FirstClassBerthB\"\n",
    "    data.loc[data[\"Fare\"] >= 870, \"TicketType\"] = \"FirstClassParlourSuite\" #Doesn't look like any data points hit this but leaving in anyway"
   ]
  },
  {
   "cell_type": "markdown",
   "metadata": {},
   "source": [
    "Diving in and looking at some classification to see how it looks as a first pass. Still need to do more work on unused fields currently"
   ]
  },
  {
   "cell_type": "code",
   "execution_count": 878,
   "metadata": {},
   "outputs": [
    {
     "name": "stdout",
     "output_type": "stream",
     "text": [
      "['Age', 'Fare', 'Family', 'HasCabin']\n",
      "['Sex', 'Embarked', 'Pclass', 'Title', 'TicketType', 'AgeBracket']\n",
      "   PassengerId  Survived  Pclass  \\\n",
      "0            1         0       3   \n",
      "1            2         1       1   \n",
      "2            3         1       3   \n",
      "3            4         1       1   \n",
      "4            5         0       3   \n",
      "5            6         0       3   \n",
      "6            7         0       1   \n",
      "7            8         0       3   \n",
      "8            9         1       3   \n",
      "9           10         1       2   \n",
      "\n",
      "                                                Name     Sex        Age  \\\n",
      "0                            Braund, Mr. Owen Harris    male  22.000000   \n",
      "1  Cumings, Mrs. John Bradley (Florence Briggs Th...  female  38.000000   \n",
      "2                             Heikkinen, Miss. Laina  female  26.000000   \n",
      "3       Futrelle, Mrs. Jacques Heath (Lily May Peel)  female  35.000000   \n",
      "4                           Allen, Mr. William Henry    male  35.000000   \n",
      "5                                   Moran, Mr. James    male  29.699118   \n",
      "6                            McCarthy, Mr. Timothy J    male  54.000000   \n",
      "7                     Palsson, Master. Gosta Leonard    male   2.000000   \n",
      "8  Johnson, Mrs. Oscar W (Elisabeth Vilhelmina Berg)  female  27.000000   \n",
      "9                Nasser, Mrs. Nicholas (Adele Achem)  female  14.000000   \n",
      "\n",
      "   SibSp  Parch            Ticket     Fare       ...        NoFare ThirdClass  \\\n",
      "0      1      0         A/5 21171   7.2500       ...             0          1   \n",
      "1      1      0          PC 17599  71.2833       ...             0          0   \n",
      "2      0      0  STON/O2. 3101282   7.9250       ...             0          1   \n",
      "3      1      0            113803  53.1000       ...             0          0   \n",
      "4      0      0            373450   8.0500       ...             0          0   \n",
      "5      0      0            330877   8.4583       ...             0          0   \n",
      "6      0      0             17463  51.8625       ...             0          0   \n",
      "7      3      1            349909  21.0750       ...             0          0   \n",
      "8      0      2            347742  11.1333       ...             0          0   \n",
      "9      1      0            237736  30.0708       ...             0          0   \n",
      "\n",
      "   SecondClass  FirstClassBerthA  FirstClassBerthB  FirstClassParlourSuite  \\\n",
      "0            0                 0                 0                       0   \n",
      "1            0                 0                 0                       0   \n",
      "2            0                 0                 0                       0   \n",
      "3            0                 0                 0                       0   \n",
      "4            1                 0                 0                       0   \n",
      "5            1                 0                 0                       0   \n",
      "6            0                 0                 0                       0   \n",
      "7            1                 0                 0                       0   \n",
      "8            1                 0                 0                       0   \n",
      "9            0                 0                 0                       0   \n",
      "\n",
      "   FirstClassBerth    Title  AgeBracket       TicketType  \n",
      "0              NaN      Mr.       Adult       ThirdClass  \n",
      "1              1.0     Mrs.       Adult  FirstClassBerth  \n",
      "2              NaN    Miss.       Adult       ThirdClass  \n",
      "3              1.0     Mrs.       Adult  FirstClassBerth  \n",
      "4              NaN      Mr.       Adult      SecondClass  \n",
      "5              NaN      Mr.       Adult      SecondClass  \n",
      "6              1.0      Mr.    OldAdult  FirstClassBerth  \n",
      "7              NaN  Master.        Baby      SecondClass  \n",
      "8              NaN     Mrs.       Adult      SecondClass  \n",
      "9              1.0     Mrs.    OldChild  FirstClassBerth  \n",
      "\n",
      "[10 rows x 37 columns]\n",
      "<class 'pandas.core.frame.DataFrame'>\n",
      "RangeIndex: 891 entries, 0 to 890\n",
      "Data columns (total 37 columns):\n",
      "PassengerId               891 non-null int64\n",
      "Survived                  891 non-null int64\n",
      "Pclass                    891 non-null int64\n",
      "Name                      891 non-null object\n",
      "Sex                       891 non-null object\n",
      "Age                       891 non-null float64\n",
      "SibSp                     891 non-null int64\n",
      "Parch                     891 non-null int64\n",
      "Ticket                    891 non-null object\n",
      "Fare                      891 non-null float64\n",
      "Cabin                     891 non-null object\n",
      "Embarked                  891 non-null object\n",
      "Mr                        891 non-null int64\n",
      "Mrs                       891 non-null int64\n",
      "Master                    891 non-null int64\n",
      "Miss                      891 non-null int64\n",
      "Other                     891 non-null int64\n",
      "HasCabin                  891 non-null int64\n",
      "Family                    891 non-null int64\n",
      "CabinLetter               891 non-null object\n",
      "Baby                      891 non-null int64\n",
      "Child                     891 non-null int64\n",
      "YoungAdult                891 non-null int64\n",
      "Adult                     891 non-null int64\n",
      "OldAdult                  891 non-null int64\n",
      "YoungChild                30 non-null float64\n",
      "OldChild                  24 non-null float64\n",
      "NoFare                    891 non-null int64\n",
      "ThirdClass                891 non-null int64\n",
      "SecondClass               891 non-null int64\n",
      "FirstClassBerthA          891 non-null int64\n",
      "FirstClassBerthB          891 non-null int64\n",
      "FirstClassParlourSuite    891 non-null int64\n",
      "FirstClassBerth           234 non-null float64\n",
      "Title                     891 non-null object\n",
      "AgeBracket                891 non-null object\n",
      "TicketType                891 non-null object\n",
      "dtypes: float64(5), int64(23), object(9)\n",
      "memory usage: 257.6+ KB\n",
      "None\n"
     ]
    }
   ],
   "source": [
    "from sklearn.model_selection import train_test_split\n",
    "from sklearn.base import BaseEstimator, TransformerMixin\n",
    "\n",
    "class DataFrameSelector(BaseEstimator, TransformerMixin):\n",
    "    def __init__(self, attribute_names):\n",
    "        self.attribute_names = attribute_names\n",
    "    def fit(self, X, y=None):\n",
    "        return self\n",
    "    def transform(self, X):\n",
    "        return X[self.attribute_names].values\n",
    "\n",
    "titanic_training = titanic_train.copy()\n",
    "\n",
    "def PrepData(data):\n",
    "    AddTitle(data)\n",
    "    AddHasCabin(data)\n",
    "    CombineFamily(data)\n",
    "    data.Embarked.fillna('S', inplace=True)\n",
    "    data.loc[data[\"Embarked\"] == \"\", \"Embarked\"] = \"S\"\n",
    "    data.Cabin.fillna('Z', inplace=True)\n",
    "    data.Age.fillna((data[\"Age\"].mean()), inplace=True)\n",
    "    CabinType(data)\n",
    "    AgeBrackets(data)\n",
    "    FareBrackets(data)\n",
    "    AddTitleCategory(data)\n",
    "    AgeBracketsCategory(data)\n",
    "    FareBracketsCategory(data)\n",
    "    \n",
    "cat_attribs = [\"Sex\",\"Embarked\",\"Pclass\",\"Title\",\"TicketType\",\"AgeBracket\"]\n",
    "num_attribs = [\"Age\", \"Fare\", \"Family\",\"HasCabin\"]\n",
    "print(num_attribs)\n",
    "print(cat_attribs)\n",
    "\n",
    "#train_set, test_set = train_test_split(titanic_training, test_size=0.2, random_state=42)\n",
    "   \n",
    "from sklearn.pipeline import Pipeline\n",
    "from sklearn.preprocessing import StandardScaler\n",
    "from sklearn.preprocessing import Imputer\n",
    "from future_encoders import OneHotEncoder\n",
    "\n",
    "num_pipeline = Pipeline([\n",
    "    ('selector', DataFrameSelector(num_attribs)),\n",
    "    #('imputer', Imputer(strategy=\"median\")),\n",
    "    ('std_scaler', StandardScaler()),\n",
    "])\n",
    "\n",
    "cat_pipeline = Pipeline([\n",
    "    ('selector', DataFrameSelector(cat_attribs)),\n",
    "    ('cat_encoder', OneHotEncoder(sparse=False)),\n",
    "])\n",
    "\n",
    "from sklearn.pipeline import FeatureUnion\n",
    "\n",
    "full_pipeline = FeatureUnion(transformer_list=[\n",
    "    (\"num_pipeline\", num_pipeline),\n",
    "    (\"cat_pipeline\", cat_pipeline),\n",
    "])\n",
    "\n",
    "#train_labels, test_labels = train_set[\"Survived\"], test_set[\"Survived\"]\n",
    "train_labels = titanic_training[\"Survived\"]\n",
    "PrepData(titanic_training)\n",
    "\n",
    "print(titanic_training.head(10))\n",
    "print(titanic_training.info())\n",
    "titanic_prepared = full_pipeline.fit_transform(titanic_training)"
   ]
  },
  {
   "cell_type": "code",
   "execution_count": 879,
   "metadata": {},
   "outputs": [
    {
     "data": {
      "text/plain": [
       "SGDClassifier(alpha=0.0001, average=False, class_weight=None, epsilon=0.1,\n",
       "       eta0=0.0, fit_intercept=True, l1_ratio=0.15,\n",
       "       learning_rate='optimal', loss='hinge', max_iter=5, n_iter=None,\n",
       "       n_jobs=1, penalty='l2', power_t=0.5, random_state=42, shuffle=True,\n",
       "       tol=None, verbose=0, warm_start=False)"
      ]
     },
     "execution_count": 879,
     "metadata": {},
     "output_type": "execute_result"
    }
   ],
   "source": [
    "from sklearn.linear_model import SGDClassifier\n",
    "from sklearn.model_selection import cross_val_score\n",
    "sgd_clf = SGDClassifier(max_iter=5, random_state=42)\n",
    "sgd_clf.fit(titanic_prepared, train_labels)"
   ]
  },
  {
   "cell_type": "code",
   "execution_count": 880,
   "metadata": {},
   "outputs": [
    {
     "data": {
      "text/plain": [
       "array([0.48148148, 0.79124579, 0.78787879])"
      ]
     },
     "execution_count": 880,
     "metadata": {},
     "output_type": "execute_result"
    }
   ],
   "source": [
    "cross_val_score(sgd_clf, titanic_prepared, train_labels, cv=3, scoring=\"accuracy\")"
   ]
  },
  {
   "cell_type": "code",
   "execution_count": 881,
   "metadata": {},
   "outputs": [
    {
     "data": {
      "text/plain": [
       "array([0.77104377, 0.81144781, 0.77441077])"
      ]
     },
     "execution_count": 881,
     "metadata": {},
     "output_type": "execute_result"
    }
   ],
   "source": [
    "from sklearn.ensemble import RandomForestClassifier\n",
    "\n",
    "forest_clf = RandomForestClassifier(random_state=42)\n",
    "forest_clf.fit(titanic_prepared, train_labels)\n",
    "cross_val_score(forest_clf, titanic_prepared, train_labels, cv=3, scoring=\"accuracy\")"
   ]
  },
  {
   "cell_type": "code",
   "execution_count": 882,
   "metadata": {},
   "outputs": [
    {
     "data": {
      "text/plain": [
       "array([0.77441077, 0.83164983, 0.83501684])"
      ]
     },
     "execution_count": 882,
     "metadata": {},
     "output_type": "execute_result"
    }
   ],
   "source": [
    "from sklearn.neighbors import KNeighborsClassifier\n",
    "\n",
    "knn_clf = KNeighborsClassifier(n_jobs=-1)\n",
    "knn_clf.fit(titanic_prepared, train_labels)\n",
    "cross_val_score(knn_clf, titanic_prepared, train_labels, cv=3, scoring=\"accuracy\")"
   ]
  },
  {
   "cell_type": "markdown",
   "metadata": {},
   "source": [
    "Initial results are poor but promising. I feel like some parameter tuning could help but there's probably more need for improvement in the input parameters"
   ]
  },
  {
   "cell_type": "code",
   "execution_count": 883,
   "metadata": {},
   "outputs": [
    {
     "name": "stdout",
     "output_type": "stream",
     "text": [
      "LR: 0.824906 (0.038041)\n",
      "LDA: 0.826067 (0.034729)\n",
      "KNN: 0.826092 (0.043884)\n",
      "CART: 0.776754 (0.061125)\n",
      "NB: 0.764332 (0.042791)\n"
     ]
    },
    {
     "name": "stderr",
     "output_type": "stream",
     "text": [
      "C:\\Users\\NickSandel\\AppData\\Local\\conda\\conda\\envs\\mlbook\\lib\\site-packages\\sklearn\\discriminant_analysis.py:388: UserWarning: Variables are collinear.\n",
      "  warnings.warn(\"Variables are collinear.\")\n",
      "C:\\Users\\NickSandel\\AppData\\Local\\conda\\conda\\envs\\mlbook\\lib\\site-packages\\sklearn\\discriminant_analysis.py:388: UserWarning: Variables are collinear.\n",
      "  warnings.warn(\"Variables are collinear.\")\n",
      "C:\\Users\\NickSandel\\AppData\\Local\\conda\\conda\\envs\\mlbook\\lib\\site-packages\\sklearn\\discriminant_analysis.py:388: UserWarning: Variables are collinear.\n",
      "  warnings.warn(\"Variables are collinear.\")\n",
      "C:\\Users\\NickSandel\\AppData\\Local\\conda\\conda\\envs\\mlbook\\lib\\site-packages\\sklearn\\discriminant_analysis.py:388: UserWarning: Variables are collinear.\n",
      "  warnings.warn(\"Variables are collinear.\")\n",
      "C:\\Users\\NickSandel\\AppData\\Local\\conda\\conda\\envs\\mlbook\\lib\\site-packages\\sklearn\\discriminant_analysis.py:388: UserWarning: Variables are collinear.\n",
      "  warnings.warn(\"Variables are collinear.\")\n",
      "C:\\Users\\NickSandel\\AppData\\Local\\conda\\conda\\envs\\mlbook\\lib\\site-packages\\sklearn\\discriminant_analysis.py:388: UserWarning: Variables are collinear.\n",
      "  warnings.warn(\"Variables are collinear.\")\n",
      "C:\\Users\\NickSandel\\AppData\\Local\\conda\\conda\\envs\\mlbook\\lib\\site-packages\\sklearn\\discriminant_analysis.py:388: UserWarning: Variables are collinear.\n",
      "  warnings.warn(\"Variables are collinear.\")\n",
      "C:\\Users\\NickSandel\\AppData\\Local\\conda\\conda\\envs\\mlbook\\lib\\site-packages\\sklearn\\discriminant_analysis.py:388: UserWarning: Variables are collinear.\n",
      "  warnings.warn(\"Variables are collinear.\")\n",
      "C:\\Users\\NickSandel\\AppData\\Local\\conda\\conda\\envs\\mlbook\\lib\\site-packages\\sklearn\\discriminant_analysis.py:388: UserWarning: Variables are collinear.\n",
      "  warnings.warn(\"Variables are collinear.\")\n",
      "C:\\Users\\NickSandel\\AppData\\Local\\conda\\conda\\envs\\mlbook\\lib\\site-packages\\sklearn\\discriminant_analysis.py:388: UserWarning: Variables are collinear.\n",
      "  warnings.warn(\"Variables are collinear.\")\n"
     ]
    },
    {
     "name": "stdout",
     "output_type": "stream",
     "text": [
      "SVM: 0.832784 (0.041821)\n",
      "RF: 0.807016 (0.030834)\n"
     ]
    }
   ],
   "source": [
    "#Using iris example as a way of throwing a few algorithms at the issue and see how they perform\n",
    "import pandas\n",
    "from pandas.plotting import scatter_matrix\n",
    "import matplotlib.pyplot as plt\n",
    "from sklearn import model_selection\n",
    "from sklearn.metrics import classification_report\n",
    "from sklearn.metrics import confusion_matrix\n",
    "from sklearn.metrics import accuracy_score\n",
    "from sklearn.linear_model import LogisticRegression\n",
    "from sklearn.tree import DecisionTreeClassifier\n",
    "from sklearn.neighbors import KNeighborsClassifier\n",
    "from sklearn.discriminant_analysis import LinearDiscriminantAnalysis\n",
    "from sklearn.naive_bayes import GaussianNB\n",
    "from sklearn.svm import SVC\n",
    "# Test options and evaluation metric\n",
    "seed = 42\n",
    "scoring = 'accuracy'\n",
    "\n",
    "# Spot Check Algorithms\n",
    "models = []\n",
    "models.append(('LR', LogisticRegression()))\n",
    "models.append(('LDA', LinearDiscriminantAnalysis()))\n",
    "models.append(('KNN', KNeighborsClassifier()))\n",
    "models.append(('CART', DecisionTreeClassifier()))\n",
    "models.append(('NB', GaussianNB()))\n",
    "models.append(('SVM', SVC()))\n",
    "models.append(('RF', RandomForestClassifier()))\n",
    "# evaluate each model in turn\n",
    "results = []\n",
    "names = []\n",
    "for name, model in models:\n",
    "    kfold = model_selection.KFold(n_splits=10, random_state=seed)\n",
    "    cv_results = model_selection.cross_val_score(model, titanic_prepared, train_labels, cv=kfold, scoring=scoring)\n",
    "    results.append(cv_results)\n",
    "    names.append(name)\n",
    "    msg = \"%s: %f (%f)\" % (name, cv_results.mean(), cv_results.std())\n",
    "    print(msg)"
   ]
  },
  {
   "cell_type": "code",
   "execution_count": 884,
   "metadata": {},
   "outputs": [
    {
     "data": {
      "image/png": "[encoded data removed]",
      "text/plain": [
       "<Figure size 432x288 with 1 Axes>"
      ]
     },
     "metadata": {},
     "output_type": "display_data"
    }
   ],
   "source": [
    "# Compare Algorithms\n",
    "fig = plt.figure()\n",
    "fig.suptitle('Algorithm Comparison')\n",
    "ax = fig.add_subplot(111)\n",
    "plt.boxplot(results)\n",
    "ax.set_xticklabels(names)\n",
    "plt.show()"
   ]
  },
  {
   "cell_type": "code",
   "execution_count": 885,
   "metadata": {},
   "outputs": [
    {
     "data": {
      "text/plain": [
       "RandomizedSearchCV(cv=5, error_score='raise',\n",
       "          estimator=RandomForestClassifier(bootstrap=True, class_weight=None, criterion='gini',\n",
       "            max_depth=None, max_features='auto', max_leaf_nodes=None,\n",
       "            min_impurity_decrease=0.0, min_impurity_split=None,\n",
       "            min_samples_leaf=1, min_samples_split=2,\n",
       "            min_weight_fraction_leaf=0.0, n_estimators=10, n_jobs=1,\n",
       "            oob_score=False, random_state=42, verbose=0, warm_start=False),\n",
       "          fit_params=None, iid=True, n_iter=20, n_jobs=1,\n",
       "          param_distributions={'max_features': <scipy.stats._distn_infrastructure.rv_frozen object at 0x000001BEBA522A20>, 'n_estimators': <scipy.stats._distn_infrastructure.rv_frozen object at 0x000001BEBA4A8FD0>},\n",
       "          pre_dispatch='2*n_jobs', random_state=None, refit=True,\n",
       "          return_train_score=False, scoring=None, verbose=0)"
      ]
     },
     "execution_count": 885,
     "metadata": {},
     "output_type": "execute_result"
    }
   ],
   "source": [
    "from sklearn.model_selection import RandomizedSearchCV\n",
    "from scipy.stats import randint\n",
    "\n",
    "param_grid = {\n",
    "        'n_estimators': randint(low=20, high=200),\n",
    "        'max_features': randint(low=7, high=10),\n",
    "    }\n",
    "\n",
    "forest_clf = RandomForestClassifier(random_state=42)\n",
    "grid_search = RandomizedSearchCV(forest_clf, param_grid, n_iter = 20, cv=5, return_train_score=False)\n",
    "grid_search.fit(titanic_prepared, train_labels)"
   ]
  },
  {
   "cell_type": "code",
   "execution_count": 886,
   "metadata": {},
   "outputs": [
    {
     "name": "stdout",
     "output_type": "stream",
     "text": [
      "{'max_features': 9, 'n_estimators': 41}\n",
      "RandomForestClassifier(bootstrap=True, class_weight=None, criterion='gini',\n",
      "            max_depth=None, max_features=9, max_leaf_nodes=None,\n",
      "            min_impurity_decrease=0.0, min_impurity_split=None,\n",
      "            min_samples_leaf=1, min_samples_split=2,\n",
      "            min_weight_fraction_leaf=0.0, n_estimators=41, n_jobs=1,\n",
      "            oob_score=False, random_state=42, verbose=0, warm_start=False)\n",
      "0.8958064164776166 max_features: 8 n_estimators: 75\n",
      "0.8983086739117798 max_features: 9 n_estimators: 173\n",
      "0.8989331499509894 max_features: 9 n_estimators: 73\n",
      "0.8964326356498501 max_features: 8 n_estimators: 169\n",
      "0.8964326356498501 max_features: 8 n_estimators: 148\n",
      "0.8976837634542982 max_features: 8 n_estimators: 47\n",
      "0.8964326356498501 max_features: 8 n_estimators: 48\n",
      "0.8983086739117798 max_features: 9 n_estimators: 125\n",
      "0.8970584176706692 max_features: 8 n_estimators: 104\n",
      "0.8976837634542982 max_features: 7 n_estimators: 151\n",
      "0.9039134271190744 max_features: 9 n_estimators: 41\n",
      "0.8983086739117798 max_features: 7 n_estimators: 166\n",
      "0.8989331499509894 max_features: 9 n_estimators: 195\n",
      "0.9008039805905674 max_features: 7 n_estimators: 65\n",
      "0.9008039805905674 max_features: 7 n_estimators: 104\n",
      "0.8964326356498501 max_features: 7 n_estimators: 48\n",
      "0.8976837634542982 max_features: 8 n_estimators: 144\n",
      "0.8989331499509894 max_features: 9 n_estimators: 85\n",
      "0.8995571924766518 max_features: 7 n_estimators: 30\n",
      "0.8995571924766518 max_features: 9 n_estimators: 169\n",
      "[[0.9039134271190744, 9, 41], [0.9008039805905674, 7, 104], [0.9008039805905674, 7, 65], [0.8995571924766518, 9, 169], [0.8995571924766518, 7, 30], [0.8989331499509894, 9, 195], [0.8989331499509894, 9, 85], [0.8989331499509894, 9, 73], [0.8983086739117798, 9, 173], [0.8983086739117798, 9, 125], [0.8983086739117798, 7, 166], [0.8976837634542982, 8, 144], [0.8976837634542982, 8, 47], [0.8976837634542982, 7, 151], [0.8970584176706692, 8, 104], [0.8964326356498501, 8, 169], [0.8964326356498501, 8, 148], [0.8964326356498501, 8, 48], [0.8964326356498501, 7, 48], [0.8958064164776166, 8, 75]]\n",
      "['Age', 'Fare', 'Family', 'HasCabin'] ['female', 'male', 'C', 'Q', 'S', 1, 2, 3, 'Master.', 'Miss.', 'Mr.', 'Mrs.', 'Other', 'FirstClassBerth', 'NoFare', 'SecondClass', 'ThirdClass', 'Adult', 'Baby', 'Child', 'OldAdult', 'OldChild', 'YoungAdult']\n"
     ]
    },
    {
     "data": {
      "text/plain": [
       "[(0.19606125731889457, 'Fare'),\n",
       " (0.18867779979707178, 'Age'),\n",
       " (0.11295618452397974, 'Mr.'),\n",
       " (0.09308705385356532, 'female'),\n",
       " (0.08415467011726835, 'male'),\n",
       " (0.07038562630121097, 'Family'),\n",
       " (0.04088237568736952, 3),\n",
       " (0.029094345888700003, 'HasCabin'),\n",
       " (0.02259815941054044, 1),\n",
       " (0.017607670127257585, 'Miss.'),\n",
       " (0.01590784779108643, 2),\n",
       " (0.013316832696984991, 'C'),\n",
       " (0.012628070730801907, 'Master.'),\n",
       " (0.011856994702064295, 'Adult'),\n",
       " (0.011556587675591555, 'Mrs.'),\n",
       " (0.011364335467281382, 'S'),\n",
       " (0.008910120571186642, 'SecondClass'),\n",
       " (0.00847570969485731, 'FirstClassBerth'),\n",
       " (0.008221423305350683, 'ThirdClass'),\n",
       " (0.007792262222960386, 'YoungAdult'),\n",
       " (0.007774304464372262, 'Q'),\n",
       " (0.0075684537876526065, 'OldAdult'),\n",
       " (0.006015870690756853, 'Other'),\n",
       " (0.004567003727242314, 'Baby'),\n",
       " (0.0036351205985939647, 'OldChild'),\n",
       " (0.0034255083317295426, 'Child'),\n",
       " (0.0014784105156286469, 'NoFare')]"
      ]
     },
     "execution_count": 886,
     "metadata": {},
     "output_type": "execute_result"
    }
   ],
   "source": [
    "print(grid_search.best_params_)\n",
    "print(grid_search.best_estimator_)\n",
    "\n",
    "array = []\n",
    "cvres = grid_search.cv_results_\n",
    "for mean_score, features, estimators in zip(cvres[\"mean_test_score\"], cvres[\"param_max_features\"], cvres[\"param_n_estimators\"]):\n",
    "    print(np.sqrt(mean_score), 'max_features:', features, 'n_estimators:', estimators)\n",
    "    array.append([np.sqrt(mean_score),features,estimators])\n",
    "    \n",
    "print(sorted(array, reverse=True))\n",
    "\n",
    "feature_importances = grid_search.best_estimator_.feature_importances_\n",
    "#sorted(feature_importances)\n",
    "\n",
    "#extra_attribs = [\"Mr\",\"Mrs\",\"Master\",\"Miss\",\"Other\",\"HasCabin\",\"Family\",\"CabinLetter\",\"Baby\",\"Child\",\"YoungAdult\",\"Adult\",\"OldAdult\"]\n",
    "cat_encoder = cat_pipeline.named_steps[\"cat_encoder\"]\n",
    "cat_one_hot_attribs = []\n",
    "for i in range(len(cat_encoder.categories_)):\n",
    "    cat_one_hot_attribs = cat_one_hot_attribs + list(cat_encoder.categories_[i])# + list(cat_encoder.categories_[1]) + list(cat_encoder.categories_[2]) + list(cat_encoder.categories_[3])\n",
    "print(num_attribs, cat_one_hot_attribs)\n",
    "attributes = num_attribs + cat_one_hot_attribs\n",
    "sorted(zip(feature_importances, attributes), reverse = True)"
   ]
  },
  {
   "cell_type": "code",
   "execution_count": 887,
   "metadata": {},
   "outputs": [],
   "source": [
    "#scores_df = pd.DataFrame(grid_search.cv_results_).sort_values(by='rank_test_score')\n",
    "#scores_df"
   ]
  },
  {
   "cell_type": "code",
   "execution_count": 890,
   "metadata": {},
   "outputs": [
    {
     "data": {
      "text/plain": [
       "GridSearchCV(cv=5, error_score='raise',\n",
       "       estimator=KNeighborsClassifier(algorithm='auto', leaf_size=30, metric='minkowski',\n",
       "           metric_params=None, n_jobs=-1, n_neighbors=5, p=2,\n",
       "           weights='uniform'),\n",
       "       fit_params=None, iid=True, n_jobs=1,\n",
       "       param_grid=[{'n_neighbors': [1, 2, 3, 4, 5, 6, 7, 8, 9, 10, 11], 'weights': ['uniform', 'distance']}],\n",
       "       pre_dispatch='2*n_jobs', refit=True, return_train_score='warn',\n",
       "       scoring=None, verbose=0)"
      ]
     },
     "execution_count": 890,
     "metadata": {},
     "output_type": "execute_result"
    }
   ],
   "source": [
    "from sklearn.neighbors import KNeighborsClassifier\n",
    "from sklearn.model_selection import GridSearchCV\n",
    "\n",
    "param_grid = [\n",
    "    {'n_neighbors': [1,2,3,4,5,6,7,8,9,10,11], 'weights': [\"uniform\",\"distance\"]},\n",
    "]\n",
    "\n",
    "knn_clf = KNeighborsClassifier(n_jobs=-1)\n",
    "grid_search_knn = GridSearchCV(knn_clf, param_grid, cv=5)\n",
    "grid_search_knn.fit(titanic_prepared, train_labels)"
   ]
  },
  {
   "cell_type": "code",
   "execution_count": 891,
   "metadata": {},
   "outputs": [
    {
     "name": "stdout",
     "output_type": "stream",
     "text": [
      "{'n_neighbors': 7, 'weights': 'uniform'}\n",
      "KNeighborsClassifier(algorithm='auto', leaf_size=30, metric='minkowski',\n",
      "           metric_params=None, n_jobs=-1, n_neighbors=7, p=2,\n",
      "           weights='uniform')\n",
      "0.8716767901505083 0.7598204264870931 {'n_neighbors': 1, 'weights': 'uniform'}\n",
      "0.8716767901505083 0.7598204264870931 {'n_neighbors': 1, 'weights': 'distance'}\n",
      "0.8882573514103081 0.7890011223344556 {'n_neighbors': 2, 'weights': 'uniform'}\n",
      "0.8748897637790901 0.7654320987654321 {'n_neighbors': 2, 'weights': 'distance'}\n",
      "0.8995571924766518 0.8092031425364759 {'n_neighbors': 3, 'weights': 'uniform'}\n",
      "0.8907808148793546 0.7934904601571269 {'n_neighbors': 3, 'weights': 'distance'}\n",
      "0.8989331499509894 0.8080808080808081 {'n_neighbors': 4, 'weights': 'uniform'}\n",
      "0.8932971498777985 0.797979797979798 {'n_neighbors': 4, 'weights': 'distance'}\n",
      "0.9045340337332909 0.8181818181818182 {'n_neighbors': 5, 'weights': 'uniform'}\n",
      "0.8970584176706692 0.8047138047138047 {'n_neighbors': 5, 'weights': 'distance'}\n",
      "0.9051542148371657 0.819304152637486 {'n_neighbors': 6, 'weights': 'uniform'}\n",
      "0.8964326356498501 0.8035914702581369 {'n_neighbors': 6, 'weights': 'distance'}\n",
      "0.9094836413191612 0.8271604938271605 {'n_neighbors': 7, 'weights': 'uniform'}\n",
      "0.8995571924766518 0.8092031425364759 {'n_neighbors': 7, 'weights': 'distance'}\n",
      "0.9045340337332909 0.8181818181818182 {'n_neighbors': 8, 'weights': 'uniform'}\n",
      "0.8970584176706692 0.8047138047138047 {'n_neighbors': 8, 'weights': 'distance'}\n",
      "0.9045340337332909 0.8181818181818182 {'n_neighbors': 9, 'weights': 'uniform'}\n",
      "0.8983086739117798 0.8069584736251403 {'n_neighbors': 9, 'weights': 'distance'}\n",
      "0.9020490454288763 0.813692480359147 {'n_neighbors': 10, 'weights': 'uniform'}\n",
      "0.8983086739117798 0.8069584736251403 {'n_neighbors': 10, 'weights': 'distance'}\n",
      "0.9045340337332909 0.8181818181818182 {'n_neighbors': 11, 'weights': 'uniform'}\n",
      "0.8958064164776166 0.8024691358024691 {'n_neighbors': 11, 'weights': 'distance'}\n"
     ]
    }
   ],
   "source": [
    "print(grid_search_knn.best_params_)\n",
    "print(grid_search_knn.best_estimator_)\n",
    "\n",
    "cvres = grid_search_knn.cv_results_\n",
    "for mean_score, params in zip(cvres[\"mean_test_score\"], cvres[\"params\"]):\n",
    "    print(np.sqrt(mean_score), mean_score, params)"
   ]
  },
  {
   "cell_type": "code",
   "execution_count": 917,
   "metadata": {},
   "outputs": [
    {
     "data": {
      "text/plain": [
       "GridSearchCV(cv=5, error_score='raise',\n",
       "       estimator=LogisticRegression(C=1.0, class_weight=None, dual=False, fit_intercept=True,\n",
       "          intercept_scaling=1, max_iter=100, multi_class='ovr', n_jobs=1,\n",
       "          penalty='l2', random_state=None, solver='liblinear', tol=0.0001,\n",
       "          verbose=0, warm_start=False),\n",
       "       fit_params=None, iid=True, n_jobs=1,\n",
       "       param_grid=[{'C': [0.1, 0.4, 0.446, 0.4462, 0.45, 0.455, 0.5, 0.55, 0.6, 1]}],\n",
       "       pre_dispatch='2*n_jobs', refit=True, return_train_score='warn',\n",
       "       scoring=None, verbose=0)"
      ]
     },
     "execution_count": 917,
     "metadata": {},
     "output_type": "execute_result"
    }
   ],
   "source": [
    "from sklearn.linear_model import LogisticRegression\n",
    "from sklearn.model_selection import GridSearchCV\n",
    "\n",
    "param_grid = [\n",
    "    {'C': [0.1,0.4,0.446,0.4462,0.45,0.455,0.5,0.55,0.6,1]},\n",
    "]\n",
    "\n",
    "lr_clf = LogisticRegression()\n",
    "grid_search_lr = GridSearchCV(lr_clf, param_grid, cv=5)\n",
    "grid_search_lr.fit(titanic_prepared, train_labels)"
   ]
  },
  {
   "cell_type": "code",
   "execution_count": 918,
   "metadata": {},
   "outputs": [
    {
     "name": "stdout",
     "output_type": "stream",
     "text": [
      "{'C': 0.446}\n",
      "LogisticRegression(C=0.446, class_weight=None, dual=False, fit_intercept=True,\n",
      "          intercept_scaling=1, max_iter=100, multi_class='ovr', n_jobs=1,\n",
      "          penalty='l2', random_state=None, solver='liblinear', tol=0.0001,\n",
      "          verbose=0, warm_start=False)\n",
      "0.9045340337332909 0.8181818181818182 {'C': 0.1}\n",
      "0.9076307015852633 0.8237934904601572 {'C': 0.4}\n",
      "0.908866414480969 0.8260381593714927 {'C': 0.446}\n",
      "0.908866414480969 0.8260381593714927 {'C': 0.4462}\n",
      "0.908866414480969 0.8260381593714927 {'C': 0.45}\n",
      "0.908866414480969 0.8260381593714927 {'C': 0.455}\n",
      "0.9082487681884435 0.8249158249158249 {'C': 0.5}\n",
      "0.9082487681884435 0.8249158249158249 {'C': 0.55}\n",
      "0.9082487681884435 0.8249158249158249 {'C': 0.6}\n",
      "0.9082487681884435 0.8249158249158249 {'C': 1}\n"
     ]
    }
   ],
   "source": [
    "print(grid_search_lr.best_params_)\n",
    "print(grid_search_lr.best_estimator_)\n",
    "\n",
    "cvres = grid_search_lr.cv_results_\n",
    "for mean_score, params in zip(cvres[\"mean_test_score\"], cvres[\"params\"]):\n",
    "    print(np.sqrt(mean_score), mean_score, params)"
   ]
  },
  {
   "cell_type": "markdown",
   "metadata": {},
   "source": [
    "So lets say I'm happy enough with the Random Forest best estimator - how to export?"
   ]
  },
  {
   "cell_type": "code",
   "execution_count": 894,
   "metadata": {},
   "outputs": [
    {
     "name": "stdout",
     "output_type": "stream",
     "text": [
      "[[462  87]\n",
      " [100 242]]\n",
      "Precision: 0.7355623100303952\n",
      "Recall: 0.7076023391812866\n",
      "F1_Score: 0.7213114754098362\n"
     ]
    }
   ],
   "source": [
    "forest_clf = RandomForestClassifier(random_state=42,max_features= 8, n_estimators = 75)\n",
    "forest_clf.fit(titanic_prepared, train_labels)\n",
    "#cross_val_score(forest_clf, titanic_prepared, train_labels, cv=6, scoring=\"accuracy\")\n",
    "\n",
    "from sklearn.model_selection import cross_val_predict\n",
    "from sklearn.metrics import confusion_matrix\n",
    "from sklearn.metrics import precision_score, recall_score, f1_score\n",
    "from sklearn.metrics import roc_curve\n",
    "from sklearn.metrics import precision_recall_curve\n",
    "\n",
    "def ConfusionMatrixPrecisionRecall(model, training_data, training_labels):\n",
    "    cross_val_predictions = cross_val_predict(model, training_data, training_labels, cv=3)\n",
    "    print(confusion_matrix(training_labels, cross_val_predictions))\n",
    "    print(\"Precision:\", precision_score(training_labels, cross_val_predictions))\n",
    "    print(\"Recall:\", recall_score(training_labels, cross_val_predictions))\n",
    "    print(\"F1_Score:\", f1_score(training_labels, cross_val_predictions))\n",
    "    \n",
    "ConfusionMatrixPrecisionRecall(forest_clf, titanic_prepared, train_labels)"
   ]
  },
  {
   "cell_type": "code",
   "execution_count": 740,
   "metadata": {},
   "outputs": [],
   "source": [
    "#from sklearn.metrics import accuracy_score\n",
    "\n",
    "#predictions = forest_clf.predict(titanic_prepared)\n",
    "#print(accuracy_score(train_labels, predictions))"
   ]
  },
  {
   "cell_type": "code",
   "execution_count": 583,
   "metadata": {},
   "outputs": [
    {
     "name": "stdout",
     "output_type": "stream",
     "text": [
      "[ 0.38623105 -0.49741333  0.86120071 -0.45617155 -0.22999288 -0.47896948\n",
      " -0.13050529 -0.5534426  -0.15655607 -0.21213203 -0.50895594  0.93961848\n",
      " -0.49401176 -0.52752958  0.          1.          0.          1.\n",
      "  0.          0.          0.          1.        ]\n",
      "[-0.56573646 -0.50244517  0.85053175 -0.4039621  -0.21680296 -0.50665528\n",
      " -0.1767767   0.05915988 -0.16637807 -0.23598136  2.01556444 -1.08313006\n",
      " -0.47318189 -0.54492498  0.          1.          0.          0.\n",
      "  1.          0.          0.          1.        ]\n",
      "['Age', 'Fare', 'Mr', 'Mrs', 'Master', 'Miss', 'Other', 'Family', 'Baby', 'Child', 'YoungAdult', 'Adult', 'OldAdult', 'HasCabin'] ['Sex', 'Embarked', 'Pclass']\n"
     ]
    }
   ],
   "source": [
    "titanic_test = load_titanic_data(\"test.csv\")\n",
    "PrepData(titanic_test)\n",
    "\n",
    "titanic_test_prepared = full_pipeline.fit_transform(titanic_test)\n",
    "print(titanic_test_prepared[0])\n",
    "print(titanic_prepared[0])\n",
    "\n",
    "print(list(num_attribs), cat_attribs)\n",
    "\n",
    "test_predictions = forest_clf.predict(titanic_test_prepared)\n",
    "titanic_test_output = [titanic_test, test_predictions]\n",
    "submission = pd.DataFrame({\n",
    "        \"PassengerId\": titanic_test[\"PassengerId\"],\n",
    "        \"Survived\": test_predictions\n",
    "    })\n",
    "#print(submission)\n",
    "#submission.to_csv('titanic_predictions_RF_MF_9_NE_108.csv', index=False)"
   ]
  },
  {
   "cell_type": "markdown",
   "metadata": {},
   "source": [
    "Let's say I changed my mind (whimsy!) and want to try KNN instead"
   ]
  },
  {
   "cell_type": "code",
   "execution_count": 895,
   "metadata": {},
   "outputs": [
    {
     "data": {
      "text/plain": [
       "array([0.80536913, 0.79194631, 0.87919463, 0.82432432, 0.80405405,\n",
       "       0.83783784])"
      ]
     },
     "execution_count": 895,
     "metadata": {},
     "output_type": "execute_result"
    }
   ],
   "source": [
    "knn_clf = KNeighborsClassifier(n_jobs=-1,n_neighbors= 7, weights='uniform')\n",
    "knn_clf.fit(titanic_prepared, train_labels)\n",
    "cross_val_score(knn_clf, titanic_prepared, train_labels, cv=6, scoring=\"accuracy\")"
   ]
  },
  {
   "cell_type": "code",
   "execution_count": 896,
   "metadata": {},
   "outputs": [
    {
     "name": "stdout",
     "output_type": "stream",
     "text": [
      "0.8619528619528619\n",
      "[[477  72]\n",
      " [ 90 252]]\n",
      "Precision: 0.7777777777777778\n",
      "Recall: 0.7368421052631579\n",
      "F1_Score: 0.7567567567567567\n"
     ]
    }
   ],
   "source": [
    "predictions = knn_clf.predict(titanic_prepared)\n",
    "print(accuracy_score(train_labels, predictions))\n",
    "ConfusionMatrixPrecisionRecall(knn_clf, titanic_prepared, train_labels)"
   ]
  },
  {
   "cell_type": "code",
   "execution_count": 584,
   "metadata": {},
   "outputs": [
    {
     "name": "stdout",
     "output_type": "stream",
     "text": [
      "[ 0.38623105 -0.49741333  0.86120071 -0.45617155 -0.22999288 -0.47896948\n",
      " -0.13050529 -0.5534426  -0.15655607 -0.21213203 -0.50895594  0.93961848\n",
      " -0.49401176 -0.52752958  0.          1.          0.          1.\n",
      "  0.          0.          0.          1.        ]\n",
      "[-0.56573646 -0.50244517  0.85053175 -0.4039621  -0.21680296 -0.50665528\n",
      " -0.1767767   0.05915988 -0.16637807 -0.23598136  2.01556444 -1.08313006\n",
      " -0.47318189 -0.54492498  0.          1.          0.          0.\n",
      "  1.          0.          0.          1.        ]\n",
      "['Age', 'Fare', 'Mr', 'Mrs', 'Master', 'Miss', 'Other', 'Family', 'Baby', 'Child', 'YoungAdult', 'Adult', 'OldAdult', 'HasCabin'] ['Sex', 'Embarked', 'Pclass']\n"
     ]
    }
   ],
   "source": [
    "titanic_test = load_titanic_data(\"test.csv\")\n",
    "PrepData(titanic_test)\n",
    "\n",
    "titanic_test_prepared = full_pipeline.fit_transform(titanic_test)\n",
    "print(titanic_test_prepared[0])\n",
    "print(titanic_prepared[0])\n",
    "\n",
    "print(list(num_attribs), cat_attribs)\n",
    "\n",
    "test_predictions = knn_clf.predict(titanic_test_prepared)\n",
    "titanic_test_output = [titanic_test, test_predictions]\n",
    "submission = pd.DataFrame({\n",
    "        \"PassengerId\": titanic_test[\"PassengerId\"],\n",
    "        \"Survived\": test_predictions\n",
    "    })\n",
    "#print(submission)\n",
    "#submission.to_csv('titanic_predictions_KNN_NN_5_W_U.csv', index=False)"
   ]
  },
  {
   "cell_type": "markdown",
   "metadata": {},
   "source": [
    "So although KNN looked promising from the algorithm comparison it performed worse on the submission and got me only 0.71 accuracy\n",
    "Next steps:\n",
    "1) Parameterise the preparation steps\n",
    "2) Re-visit methods of checking the classifier accuracy\n",
    "3) Try different preparation steps to improve the model"
   ]
  },
  {
   "cell_type": "code",
   "execution_count": 922,
   "metadata": {},
   "outputs": [
    {
     "data": {
      "text/plain": [
       "array([0.81879195, 0.83221477, 0.85234899, 0.79054054, 0.81756757,\n",
       "       0.86486486])"
      ]
     },
     "execution_count": 922,
     "metadata": {},
     "output_type": "execute_result"
    }
   ],
   "source": [
    "\n",
    "lr_clf = LogisticRegression(C=0.446)\n",
    "lr_clf.fit(titanic_prepared, train_labels)\n",
    "cross_val_score(lr_clf, titanic_prepared, train_labels, cv=6, scoring=\"accuracy\")"
   ]
  },
  {
   "cell_type": "code",
   "execution_count": 923,
   "metadata": {},
   "outputs": [
    {
     "name": "stdout",
     "output_type": "stream",
     "text": [
      "[[462  87]\n",
      " [100 242]]\n",
      "Precision: 0.7355623100303952\n",
      "Recall: 0.7076023391812866\n",
      "F1_Score: 0.7213114754098362\n"
     ]
    }
   ],
   "source": [
    "from sklearn.metrics import accuracy_score\n",
    "\n",
    "predictions = forest_clf.predict(titanic_prepared)\n",
    "#print(accuracy_score(train_labels, predictions))\n",
    "ConfusionMatrixPrecisionRecall(forest_clf, titanic_prepared, train_labels)"
   ]
  },
  {
   "cell_type": "code",
   "execution_count": 924,
   "metadata": {},
   "outputs": [
    {
     "name": "stdout",
     "output_type": "stream",
     "text": [
      "[[477  72]\n",
      " [ 90 252]]\n",
      "Precision: 0.7777777777777778\n",
      "Recall: 0.7368421052631579\n",
      "F1_Score: 0.7567567567567567\n"
     ]
    }
   ],
   "source": [
    "ConfusionMatrixPrecisionRecall(knn_clf, titanic_prepared, train_labels)"
   ]
  },
  {
   "cell_type": "code",
   "execution_count": 925,
   "metadata": {},
   "outputs": [
    {
     "name": "stdout",
     "output_type": "stream",
     "text": [
      "[[481  68]\n",
      " [ 95 247]]\n",
      "Precision: 0.7841269841269841\n",
      "Recall: 0.7222222222222222\n",
      "F1_Score: 0.7519025875190258\n"
     ]
    }
   ],
   "source": [
    "ConfusionMatrixPrecisionRecall(lr_clf, titanic_prepared, train_labels)"
   ]
  },
  {
   "cell_type": "markdown",
   "metadata": {},
   "source": [
    "Bringing in confusion matrix has really helped clear up the view! Logistic regression is looking more promising based on this"
   ]
  },
  {
   "cell_type": "code",
   "execution_count": 585,
   "metadata": {},
   "outputs": [
    {
     "name": "stdout",
     "output_type": "stream",
     "text": [
      "[ 0.38623105 -0.49741333  0.86120071 -0.45617155 -0.22999288 -0.47896948\n",
      " -0.13050529 -0.5534426  -0.15655607 -0.21213203 -0.50895594  0.93961848\n",
      " -0.49401176 -0.52752958  0.          1.          0.          1.\n",
      "  0.          0.          0.          1.        ]\n",
      "[-0.56573646 -0.50244517  0.85053175 -0.4039621  -0.21680296 -0.50665528\n",
      " -0.1767767   0.05915988 -0.16637807 -0.23598136  2.01556444 -1.08313006\n",
      " -0.47318189 -0.54492498  0.          1.          0.          0.\n",
      "  1.          0.          0.          1.        ]\n",
      "['Age', 'Fare', 'Mr', 'Mrs', 'Master', 'Miss', 'Other', 'Family', 'Baby', 'Child', 'YoungAdult', 'Adult', 'OldAdult', 'HasCabin'] ['Sex', 'Embarked', 'Pclass']\n",
      "     PassengerId  Survived\n",
      "0            892         0\n",
      "1            893         1\n",
      "2            894         0\n",
      "3            895         0\n",
      "4            896         1\n",
      "5            897         0\n",
      "6            898         1\n",
      "7            899         0\n",
      "8            900         1\n",
      "9            901         0\n",
      "10           902         0\n",
      "11           903         0\n",
      "12           904         1\n",
      "13           905         0\n",
      "14           906         1\n",
      "15           907         1\n",
      "16           908         0\n",
      "17           909         0\n",
      "18           910         1\n",
      "19           911         1\n",
      "20           912         0\n",
      "21           913         1\n",
      "22           914         1\n",
      "23           915         0\n",
      "24           916         1\n",
      "25           917         0\n",
      "26           918         1\n",
      "27           919         0\n",
      "28           920         0\n",
      "29           921         0\n",
      "..           ...       ...\n",
      "388         1280         0\n",
      "389         1281         0\n",
      "390         1282         0\n",
      "391         1283         1\n",
      "392         1284         1\n",
      "393         1285         0\n",
      "394         1286         0\n",
      "395         1287         1\n",
      "396         1288         0\n",
      "397         1289         1\n",
      "398         1290         0\n",
      "399         1291         0\n",
      "400         1292         1\n",
      "401         1293         0\n",
      "402         1294         1\n",
      "403         1295         0\n",
      "404         1296         0\n",
      "405         1297         0\n",
      "406         1298         0\n",
      "407         1299         0\n",
      "408         1300         1\n",
      "409         1301         1\n",
      "410         1302         1\n",
      "411         1303         1\n",
      "412         1304         1\n",
      "413         1305         0\n",
      "414         1306         1\n",
      "415         1307         0\n",
      "416         1308         0\n",
      "417         1309         1\n",
      "\n",
      "[418 rows x 2 columns]\n"
     ]
    }
   ],
   "source": [
    "titanic_test = load_titanic_data(\"test.csv\")\n",
    "PrepData(titanic_test)\n",
    "\n",
    "titanic_test_prepared = full_pipeline.fit_transform(titanic_test)\n",
    "print(titanic_test_prepared[0])\n",
    "print(titanic_prepared[0])\n",
    "\n",
    "print(list(num_attribs), cat_attribs)\n",
    "\n",
    "test_predictions = lr_clf.predict(titanic_test_prepared)\n",
    "titanic_test_output = [titanic_test, test_predictions]\n",
    "submission = pd.DataFrame({\n",
    "        \"PassengerId\": titanic_test[\"PassengerId\"],\n",
    "        \"Survived\": test_predictions\n",
    "    })\n",
    "print(submission)\n",
    "submission.to_csv('titanic_predictions_LR_C_0p9.csv', index=False)"
   ]
  },
  {
   "cell_type": "markdown",
   "metadata": {},
   "source": [
    "Wow the prediction went up to 0.77 and leapt me up a lot of spaces on the leaderboard! Logisitic Regression looks to be the best of the 3 so far"
   ]
  },
  {
   "cell_type": "code",
   "execution_count": 921,
   "metadata": {},
   "outputs": [
    {
     "name": "stdout",
     "output_type": "stream",
     "text": [
      "[[481  68]\n",
      " [ 95 247]]\n",
      "Precision: 0.7841269841269841\n",
      "Recall: 0.7222222222222222\n",
      "F1_Score: 0.7519025875190258\n",
      "['Sex', 'Embarked', 'Pclass', 'Title', 'TicketType', 'AgeBracket'] ['Age', 'Fare', 'Family', 'HasCabin']\n",
      "['Sex', 'Embarked', 'Pclass', 'Title', 'TicketType'] ['Fare', 'Family', 'HasCabin', 'AgeBucket']\n",
      "[[480  69]\n",
      " [ 94 248]]\n",
      "Precision: 0.7823343848580442\n",
      "Recall: 0.7251461988304093\n",
      "F1_Score: 0.7526555386949924\n"
     ]
    }
   ],
   "source": [
    "#Now try varying the input parameters\n",
    "ConfusionMatrixPrecisionRecall(lr_clf, titanic_prepared, train_labels) #Baseline to work from\n",
    "lr_clf_test = LogisticRegression(C=0.446)\n",
    "print(cat_attribs, num_attribs)\n",
    "\n",
    "cat_attribs_lr = [\"Sex\",\"Embarked\",\"Pclass\",\"Title\", \"TicketType\"]\n",
    "num_attribs_lr = [\"Fare\", \"Family\", \"HasCabin\",\"AgeBucket\"]\n",
    "\n",
    "print(cat_attribs_lr, num_attribs_lr)\n",
    "\n",
    "titanic_training_LR = titanic_train.copy()\n",
    "\n",
    "PrepData(titanic_training_LR)\n",
    "titanic_training_LR[\"AgeBucket\"] = titanic_training_LR[\"Age\"] // 15 * 15\n",
    "\n",
    "num_pipeline_lr = Pipeline([\n",
    "    ('selector', DataFrameSelector(num_attribs_lr)),\n",
    "    ('imputer', Imputer(strategy=\"median\")),\n",
    "    ('std_scaler', StandardScaler()),\n",
    "])\n",
    "\n",
    "cat_pipeline_lr = Pipeline([\n",
    "    ('selector', DataFrameSelector(cat_attribs_lr)),\n",
    "    ('cat_encoder', OneHotEncoder(sparse=False)),\n",
    "])\n",
    "\n",
    "full_pipeline_lr = FeatureUnion(transformer_list=[\n",
    "    (\"num_pipeline\", num_pipeline_lr),\n",
    "    (\"cat_pipeline\", cat_pipeline_lr),\n",
    "])\n",
    "\n",
    "titanic_training_LR_prepared = full_pipeline_lr.fit_transform(titanic_training_LR)\n",
    "lr_clf_test.fit(titanic_training_LR_prepared, train_labels)\n",
    "\n",
    "ConfusionMatrixPrecisionRecall(lr_clf_test, titanic_training_LR_prepared, train_labels)"
   ]
  },
  {
   "cell_type": "markdown",
   "metadata": {},
   "source": [
    "Stumbled across something with my initial dealing of categorical values - when passed through the standard scaler it was doing something odd to the 0/1 values which ultimately meant the scoring was slightly better. No idea why this is!"
   ]
  },
  {
   "cell_type": "code",
   "execution_count": null,
   "metadata": {},
   "outputs": [],
   "source": [
    "titanic_test = load_titanic_data(\"test.csv\")\n",
    "PrepData(titanic_test)\n",
    "titanic_test_prepared = full_pipeline_lr.fit_transform(titanic_test)\n",
    "test_predictions = lr_clf_test.predict(titanic_test_prepared)\n",
    "titanic_test_output = [titanic_test, test_predictions]\n",
    "submission = pd.DataFrame({\n",
    "        \"PassengerId\": titanic_test[\"PassengerId\"],\n",
    "        \"Survived\": test_predictions\n",
    "    })\n",
    "submission.to_csv('titanic_predictions_LR_C_0p09_attrChangesv1.csv', index=False)"
   ]
  },
  {
   "cell_type": "code",
   "execution_count": 801,
   "metadata": {},
   "outputs": [],
   "source": [
    "from numbers import Number\n",
    "def plot_survival_per_feature(data, feature, categorical = False):\n",
    "    if not np.issubdtype(data[feature].dtype, np.number) or categorical == True:\n",
    "        stacked = data.groupby([feature, 'Survived'])[feature].count().unstack('Survived').fillna(0)\n",
    "        stacked.plot(kind='bar', stacked=True)\n",
    "    else:\n",
    "        grouped_by_survival = data[feature].groupby(data[\"Survived\"])\n",
    "        survival_per_feature = pd.DataFrame({\"Survived\": grouped_by_survival.get_group(1),\n",
    "                                        \"didnt_Survive\": grouped_by_survival.get_group(0),\n",
    "                                        })\n",
    "        hist = survival_per_feature.plot.hist(bins=20, alpha=0.6, stacked = True)\n",
    "        hist.set_xlabel(feature)\n",
    "        plt.show()\n",
    "        \n",
    "def plot_survival_per_feature_grouping(data, feature, grouping):\n",
    "    stacked = data.groupby([feature, grouping])[feature].count().unstack(grouping).fillna(0)\n",
    "    stacked.plot(kind='bar', stacked=True)"
   ]
  },
  {
   "cell_type": "code",
   "execution_count": 836,
   "metadata": {},
   "outputs": [
    {
     "data": {
      "image/png": "[encoded data removed]",
      "text/plain": [
       "<Figure size 432x288 with 1 Axes>"
      ]
     },
     "metadata": {},
     "output_type": "display_data"
    },
    {
     "data": {
      "image/png": "[encoded data removed]",
      "text/plain": [
       "<Figure size 432x288 with 1 Axes>"
      ]
     },
     "metadata": {},
     "output_type": "display_data"
    },
    {
     "data": {
      "image/png": "[encoded data removed]",
      "text/plain": [
       "<Figure size 432x288 with 1 Axes>"
      ]
     },
     "metadata": {},
     "output_type": "display_data"
    },
    {
     "data": {
      "image/png": "[encoded data removed]",
      "text/plain": [
       "<Figure size 432x288 with 1 Axes>"
      ]
     },
     "metadata": {},
     "output_type": "display_data"
    },
    {
     "data": {
      "image/png": "[encoded data removed]",
      "text/plain": [
       "<Figure size 432x288 with 1 Axes>"
      ]
     },
     "metadata": {},
     "output_type": "display_data"
    },
    {
     "data": {
      "image/png": "[encoded data removed]",
      "text/plain": [
       "<Figure size 432x288 with 1 Axes>"
      ]
     },
     "metadata": {},
     "output_type": "display_data"
    },
    {
     "data": {
      "image/png": "[encoded data removed]",
      "text/plain": [
       "<Figure size 432x288 with 1 Axes>"
      ]
     },
     "metadata": {},
     "output_type": "display_data"
    }
   ],
   "source": [
    "plot_survival_per_feature(titanic_training_LR, \"Sex\")\n",
    "plot_survival_per_feature(titanic_training_LR, \"Pclass\")\n",
    "plot_survival_per_feature(titanic_training_LR, \"Embarked\")\n",
    "plot_survival_per_feature(titanic_training_LR, \"AgeBracket\")\n",
    "plot_survival_per_feature(titanic_training_LR, \"Title\")\n",
    "plot_survival_per_feature(titanic_training_LR, \"TicketType\")\n",
    "\n",
    "plot_survival_per_feature_grouping(titanic_training_LR, \"Embarked\", \"Pclass\")"
   ]
  },
  {
   "cell_type": "code",
   "execution_count": 803,
   "metadata": {},
   "outputs": [
    {
     "data": {
      "image/png": "[encoded data removed]",
      "text/plain": [
       "<Figure size 432x288 with 1 Axes>"
      ]
     },
     "metadata": {},
     "output_type": "display_data"
    },
    {
     "data": {
      "image/png": "[encoded data removed]",
      "text/plain": [
       "<Figure size 432x288 with 1 Axes>"
      ]
     },
     "metadata": {},
     "output_type": "display_data"
    },
    {
     "data": {
      "image/png": "[encoded data removed]",
      "text/plain": [
       "<Figure size 432x288 with 1 Axes>"
      ]
     },
     "metadata": {},
     "output_type": "display_data"
    },
    {
     "data": {
      "image/png": "[encoded data removed]",
      "text/plain": [
       "<Figure size 432x288 with 1 Axes>"
      ]
     },
     "metadata": {},
     "output_type": "display_data"
    }
   ],
   "source": [
    "plot_survival_per_feature(titanic_training_LR, \"Age\")\n",
    "plot_survival_per_feature(titanic_training_LR, \"Fare\")\n",
    "plot_survival_per_feature(titanic_training_LR, \"Family\")\n",
    "plot_survival_per_feature(titanic_training_LR, \"HasCabin\")"
   ]
  },
  {
   "cell_type": "code",
   "execution_count": 852,
   "metadata": {},
   "outputs": [],
   "source": [
    "#Analysing the error rows\n",
    "predictions = lr_clf_test.predict(titanic_training_LR_prepared)\n",
    "pd.DataFrame({\n",
    "        \"PassengerId\": titanic_training_LR[\"PassengerId\"],\n",
    "        \"Survived\": predictions\n",
    "    }).to_csv('titanic_predictions_test.csv', index=False)"
   ]
  },
  {
   "cell_type": "code",
   "execution_count": null,
   "metadata": {},
   "outputs": [],
   "source": []
  }
 ],
 "metadata": {
  "kernelspec": {
   "display_name": "Python 3",
   "language": "python",
   "name": "python3"
  },
  "language_info": {
   "codemirror_mode": {
    "name": "ipython",
    "version": 3
   },
   "file_extension": ".py",
   "mimetype": "text/x-python",
   "name": "python",
   "nbconvert_exporter": "python",
   "pygments_lexer": "ipython3",
   "version": "3.5.5"
  }
 },
 "nbformat": 4,
 "nbformat_minor": 2
}

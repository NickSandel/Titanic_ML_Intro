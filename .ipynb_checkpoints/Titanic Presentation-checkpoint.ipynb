{
 "cells": [
  {
   "cell_type": "markdown",
   "metadata": {},
   "source": [
    "Get the data"
   ]
  },
  {
   "cell_type": "code",
   "execution_count": 6,
   "metadata": {},
   "outputs": [
    {
     "data": {
      "text/html": [
       "<div>\n",
       "<style scoped>\n",
       "    .dataframe tbody tr th:only-of-type {\n",
       "        vertical-align: middle;\n",
       "    }\n",
       "\n",
       "    .dataframe tbody tr th {\n",
       "        vertical-align: top;\n",
       "    }\n",
       "\n",
       "    .dataframe thead th {\n",
       "        text-align: right;\n",
       "    }\n",
       "</style>\n",
       "<table border=\"1\" class=\"dataframe\">\n",
       "  <thead>\n",
       "    <tr style=\"text-align: right;\">\n",
       "      <th></th>\n",
       "      <th>PassengerId</th>\n",
       "      <th>Survived</th>\n",
       "      <th>Pclass</th>\n",
       "      <th>Name</th>\n",
       "      <th>Sex</th>\n",
       "      <th>Age</th>\n",
       "      <th>SibSp</th>\n",
       "      <th>Parch</th>\n",
       "      <th>Ticket</th>\n",
       "      <th>Fare</th>\n",
       "      <th>Cabin</th>\n",
       "      <th>Embarked</th>\n",
       "    </tr>\n",
       "  </thead>\n",
       "  <tbody>\n",
       "    <tr>\n",
       "      <th>0</th>\n",
       "      <td>1</td>\n",
       "      <td>0</td>\n",
       "      <td>3</td>\n",
       "      <td>Braund, Mr. Owen Harris</td>\n",
       "      <td>male</td>\n",
       "      <td>22.0</td>\n",
       "      <td>1</td>\n",
       "      <td>0</td>\n",
       "      <td>A/5 21171</td>\n",
       "      <td>7.2500</td>\n",
       "      <td>NaN</td>\n",
       "      <td>S</td>\n",
       "    </tr>\n",
       "    <tr>\n",
       "      <th>1</th>\n",
       "      <td>2</td>\n",
       "      <td>1</td>\n",
       "      <td>1</td>\n",
       "      <td>Cumings, Mrs. John Bradley (Florence Briggs Th...</td>\n",
       "      <td>female</td>\n",
       "      <td>38.0</td>\n",
       "      <td>1</td>\n",
       "      <td>0</td>\n",
       "      <td>PC 17599</td>\n",
       "      <td>71.2833</td>\n",
       "      <td>C85</td>\n",
       "      <td>C</td>\n",
       "    </tr>\n",
       "    <tr>\n",
       "      <th>2</th>\n",
       "      <td>3</td>\n",
       "      <td>1</td>\n",
       "      <td>3</td>\n",
       "      <td>Heikkinen, Miss. Laina</td>\n",
       "      <td>female</td>\n",
       "      <td>26.0</td>\n",
       "      <td>0</td>\n",
       "      <td>0</td>\n",
       "      <td>STON/O2. 3101282</td>\n",
       "      <td>7.9250</td>\n",
       "      <td>NaN</td>\n",
       "      <td>S</td>\n",
       "    </tr>\n",
       "    <tr>\n",
       "      <th>3</th>\n",
       "      <td>4</td>\n",
       "      <td>1</td>\n",
       "      <td>1</td>\n",
       "      <td>Futrelle, Mrs. Jacques Heath (Lily May Peel)</td>\n",
       "      <td>female</td>\n",
       "      <td>35.0</td>\n",
       "      <td>1</td>\n",
       "      <td>0</td>\n",
       "      <td>113803</td>\n",
       "      <td>53.1000</td>\n",
       "      <td>C123</td>\n",
       "      <td>S</td>\n",
       "    </tr>\n",
       "    <tr>\n",
       "      <th>4</th>\n",
       "      <td>5</td>\n",
       "      <td>0</td>\n",
       "      <td>3</td>\n",
       "      <td>Allen, Mr. William Henry</td>\n",
       "      <td>male</td>\n",
       "      <td>35.0</td>\n",
       "      <td>0</td>\n",
       "      <td>0</td>\n",
       "      <td>373450</td>\n",
       "      <td>8.0500</td>\n",
       "      <td>NaN</td>\n",
       "      <td>S</td>\n",
       "    </tr>\n",
       "  </tbody>\n",
       "</table>\n",
       "</div>"
      ],
      "text/plain": [
       "   PassengerId  Survived  Pclass  \\\n",
       "0            1         0       3   \n",
       "1            2         1       1   \n",
       "2            3         1       3   \n",
       "3            4         1       1   \n",
       "4            5         0       3   \n",
       "\n",
       "                                                Name     Sex   Age  SibSp  \\\n",
       "0                            Braund, Mr. Owen Harris    male  22.0      1   \n",
       "1  Cumings, Mrs. John Bradley (Florence Briggs Th...  female  38.0      1   \n",
       "2                             Heikkinen, Miss. Laina  female  26.0      0   \n",
       "3       Futrelle, Mrs. Jacques Heath (Lily May Peel)  female  35.0      1   \n",
       "4                           Allen, Mr. William Henry    male  35.0      0   \n",
       "\n",
       "   Parch            Ticket     Fare Cabin Embarked  \n",
       "0      0         A/5 21171   7.2500   NaN        S  \n",
       "1      0          PC 17599  71.2833   C85        C  \n",
       "2      0  STON/O2. 3101282   7.9250   NaN        S  \n",
       "3      0            113803  53.1000  C123        S  \n",
       "4      0            373450   8.0500   NaN        S  "
      ]
     },
     "execution_count": 6,
     "metadata": {},
     "output_type": "execute_result"
    }
   ],
   "source": [
    "import os\n",
    "import pandas as pd\n",
    "import numpy as np\n",
    "\n",
    "# Import charting libraries\n",
    "import matplotlib.pyplot as plt\n",
    "import seaborn as sns\n",
    "\n",
    "# Ignore warnings thrown by Seaborn\n",
    "import warnings\n",
    "warnings.filterwarnings('ignore')\n",
    "\n",
    "def load_titanic_data(filename, folder=\"Data\"):\n",
    "    csv_path = os.path.join(folder, filename)\n",
    "    return pd.read_csv(csv_path)\n",
    "\n",
    "titanic_train = load_titanic_data(\"train.csv\")\n",
    "titanic_test = load_titanic_data(\"test.csv\")\n",
    "\n",
    "titanic_train.head()"
   ]
  },
  {
   "cell_type": "code",
   "execution_count": 2,
   "metadata": {},
   "outputs": [
    {
     "name": "stdout",
     "output_type": "stream",
     "text": [
      "<class 'pandas.core.frame.DataFrame'>\n",
      "RangeIndex: 891 entries, 0 to 890\n",
      "Data columns (total 12 columns):\n",
      "PassengerId    891 non-null int64\n",
      "Survived       891 non-null int64\n",
      "Pclass         891 non-null int64\n",
      "Name           891 non-null object\n",
      "Sex            891 non-null object\n",
      "Age            714 non-null float64\n",
      "SibSp          891 non-null int64\n",
      "Parch          891 non-null int64\n",
      "Ticket         891 non-null object\n",
      "Fare           891 non-null float64\n",
      "Cabin          204 non-null object\n",
      "Embarked       889 non-null object\n",
      "dtypes: float64(2), int64(5), object(5)\n",
      "memory usage: 83.6+ KB\n"
     ]
    }
   ],
   "source": [
    "titanic_train.info()"
   ]
  },
  {
   "cell_type": "markdown",
   "metadata": {},
   "source": [
    "So initial lessons to learn: Age has over 150 missing values which is significant in this dataset size Cabin has 22% population which is very poor could initially transform into a new column of has cabin which is binary, not sure if a location from cabin can be gleaned to help predict survival rates based on where in the ship passengers had cabins? Maybe those with cabins could be more likely to have been in them at the time of sinking?\n",
    "\n",
    "Need to remove PassengerId from training process\n",
    "\n",
    "Only numerical fields which are related numerical - age and fare. The rest are categorical"
   ]
  },
  {
   "cell_type": "code",
   "execution_count": 3,
   "metadata": {},
   "outputs": [
    {
     "data": {
      "text/plain": [
       "22.895622895622896"
      ]
     },
     "execution_count": 3,
     "metadata": {},
     "output_type": "execute_result"
    }
   ],
   "source": [
    "204/891 * 100 #Cabin population rate"
   ]
  },
  {
   "cell_type": "code",
   "execution_count": 4,
   "metadata": {},
   "outputs": [
    {
     "data": {
      "text/html": [
       "<div>\n",
       "<style scoped>\n",
       "    .dataframe tbody tr th:only-of-type {\n",
       "        vertical-align: middle;\n",
       "    }\n",
       "\n",
       "    .dataframe tbody tr th {\n",
       "        vertical-align: top;\n",
       "    }\n",
       "\n",
       "    .dataframe thead th {\n",
       "        text-align: right;\n",
       "    }\n",
       "</style>\n",
       "<table border=\"1\" class=\"dataframe\">\n",
       "  <thead>\n",
       "    <tr style=\"text-align: right;\">\n",
       "      <th></th>\n",
       "      <th>PassengerId</th>\n",
       "      <th>Survived</th>\n",
       "      <th>Pclass</th>\n",
       "      <th>Age</th>\n",
       "      <th>SibSp</th>\n",
       "      <th>Parch</th>\n",
       "      <th>Fare</th>\n",
       "    </tr>\n",
       "  </thead>\n",
       "  <tbody>\n",
       "    <tr>\n",
       "      <th>count</th>\n",
       "      <td>891.000000</td>\n",
       "      <td>891.000000</td>\n",
       "      <td>891.000000</td>\n",
       "      <td>714.000000</td>\n",
       "      <td>891.000000</td>\n",
       "      <td>891.000000</td>\n",
       "      <td>891.000000</td>\n",
       "    </tr>\n",
       "    <tr>\n",
       "      <th>mean</th>\n",
       "      <td>446.000000</td>\n",
       "      <td>0.383838</td>\n",
       "      <td>2.308642</td>\n",
       "      <td>29.699118</td>\n",
       "      <td>0.523008</td>\n",
       "      <td>0.381594</td>\n",
       "      <td>32.204208</td>\n",
       "    </tr>\n",
       "    <tr>\n",
       "      <th>std</th>\n",
       "      <td>257.353842</td>\n",
       "      <td>0.486592</td>\n",
       "      <td>0.836071</td>\n",
       "      <td>14.526497</td>\n",
       "      <td>1.102743</td>\n",
       "      <td>0.806057</td>\n",
       "      <td>49.693429</td>\n",
       "    </tr>\n",
       "    <tr>\n",
       "      <th>min</th>\n",
       "      <td>1.000000</td>\n",
       "      <td>0.000000</td>\n",
       "      <td>1.000000</td>\n",
       "      <td>0.420000</td>\n",
       "      <td>0.000000</td>\n",
       "      <td>0.000000</td>\n",
       "      <td>0.000000</td>\n",
       "    </tr>\n",
       "    <tr>\n",
       "      <th>25%</th>\n",
       "      <td>223.500000</td>\n",
       "      <td>0.000000</td>\n",
       "      <td>2.000000</td>\n",
       "      <td>20.125000</td>\n",
       "      <td>0.000000</td>\n",
       "      <td>0.000000</td>\n",
       "      <td>7.910400</td>\n",
       "    </tr>\n",
       "    <tr>\n",
       "      <th>50%</th>\n",
       "      <td>446.000000</td>\n",
       "      <td>0.000000</td>\n",
       "      <td>3.000000</td>\n",
       "      <td>28.000000</td>\n",
       "      <td>0.000000</td>\n",
       "      <td>0.000000</td>\n",
       "      <td>14.454200</td>\n",
       "    </tr>\n",
       "    <tr>\n",
       "      <th>75%</th>\n",
       "      <td>668.500000</td>\n",
       "      <td>1.000000</td>\n",
       "      <td>3.000000</td>\n",
       "      <td>38.000000</td>\n",
       "      <td>1.000000</td>\n",
       "      <td>0.000000</td>\n",
       "      <td>31.000000</td>\n",
       "    </tr>\n",
       "    <tr>\n",
       "      <th>max</th>\n",
       "      <td>891.000000</td>\n",
       "      <td>1.000000</td>\n",
       "      <td>3.000000</td>\n",
       "      <td>80.000000</td>\n",
       "      <td>8.000000</td>\n",
       "      <td>6.000000</td>\n",
       "      <td>512.329200</td>\n",
       "    </tr>\n",
       "  </tbody>\n",
       "</table>\n",
       "</div>"
      ],
      "text/plain": [
       "       PassengerId    Survived      Pclass         Age       SibSp  \\\n",
       "count   891.000000  891.000000  891.000000  714.000000  891.000000   \n",
       "mean    446.000000    0.383838    2.308642   29.699118    0.523008   \n",
       "std     257.353842    0.486592    0.836071   14.526497    1.102743   \n",
       "min       1.000000    0.000000    1.000000    0.420000    0.000000   \n",
       "25%     223.500000    0.000000    2.000000   20.125000    0.000000   \n",
       "50%     446.000000    0.000000    3.000000   28.000000    0.000000   \n",
       "75%     668.500000    1.000000    3.000000   38.000000    1.000000   \n",
       "max     891.000000    1.000000    3.000000   80.000000    8.000000   \n",
       "\n",
       "            Parch        Fare  \n",
       "count  891.000000  891.000000  \n",
       "mean     0.381594   32.204208  \n",
       "std      0.806057   49.693429  \n",
       "min      0.000000    0.000000  \n",
       "25%      0.000000    7.910400  \n",
       "50%      0.000000   14.454200  \n",
       "75%      0.000000   31.000000  \n",
       "max      6.000000  512.329200  "
      ]
     },
     "execution_count": 4,
     "metadata": {},
     "output_type": "execute_result"
    }
   ],
   "source": [
    "titanic_train.describe()"
   ]
  },
  {
   "cell_type": "code",
   "execution_count": 5,
   "metadata": {},
   "outputs": [
    {
     "data": {
      "image/png": "[encoded data removed]",
      "text/plain": [
       "<Figure size 1440x1080 with 9 Axes>"
      ]
     },
     "metadata": {},
     "output_type": "display_data"
    }
   ],
   "source": [
    "%matplotlib inline\n",
    "titanic_train.hist(bins=50, figsize=(20,15))\n",
    "plt.show()"
   ]
  },
  {
   "cell_type": "markdown",
   "metadata": {},
   "source": [
    "Splitting out a title field from the name seems sensible and setting it's values to true/false\n",
    "Flagging if a passenger had a Cabin or not - perhaps cabin type matters as well \n",
    "Trying to combine Parch and SibSp into a Family feature - saw someone else had done this and sounded sensible\n",
    "Adding AgeBrackets and FareBrackets"
   ]
  },
  {
   "cell_type": "code",
   "execution_count": 88,
   "metadata": {},
   "outputs": [],
   "source": [
    "def TitleCategory(data):\n",
    "    data[\"Title\"] = \"Other\"\n",
    "    data.loc[data[\"Name\"].str.contains(\"Mr.\", regex=False), \"Title\"] = \"Mr.\"\n",
    "    data.loc[data[\"Name\"].str.contains(\"Mrs.\", regex=False), \"Title\"] = \"Mrs.\"\n",
    "    data.loc[data[\"Name\"].str.contains(\"Master.\", regex=False), \"Title\"] = \"Master.\"\n",
    "    data.loc[data[\"Name\"].str.contains(\"Miss.\", regex=False), \"Title\"] = \"Miss.\"\n",
    "    \n",
    "def HasCabin(data):\n",
    "    data[\"HasCabin\"] = data[\"Cabin\"]\n",
    "    data[\"HasCabin\"] = data[\"HasCabin\"].fillna(value=0)\n",
    "    data.loc[data[\"HasCabin\"] != 0, \"HasCabin\"] = 1\n",
    "    \n",
    "def CombineFamily(data):\n",
    "    data[\"Family\"] = data[\"Parch\"] + data[\"SibSp\"]\n",
    "    \n",
    "def CabinType(data):\n",
    "    data[\"CabinLetter\"] = data[\"Cabin\"].str[0]\n",
    "    \n",
    "def AgeBracketsCategory(data):\n",
    "    data[\"AgeBracket\"] = \"\"\n",
    "    data.loc[data[\"Age\"] < 3, \"AgeBracket\"] = \"Baby\"\n",
    "    data.loc[(data[\"Age\"] >= 3) & (data[\"Age\"] < 9), \"AgeBracket\"] = \"Child\"\n",
    "    data.loc[(data[\"Age\"] >= 9) & (data[\"Age\"] < 15), \"AgeBracket\"] = \"OldChild\"\n",
    "    data.loc[(data[\"Age\"] >= 15) & (data[\"Age\"] < 22), \"AgeBracket\"] = \"YoungAdult\"\n",
    "    data.loc[(data[\"Age\"] >= 22) & (data[\"Age\"] < 40), \"AgeBracket\"] = \"Adult\"\n",
    "    data.loc[data[\"Age\"] >= 40, \"AgeBracket\"] = \"OldAdult\"\n",
    "    \n",
    "#Got fare details from: http://www.keyflux.com/titanic/facts.htm \n",
    "#However the brackets don't overlap well so making sure all values are covered\n",
    "def FareBracketsCategory(data):\n",
    "    data[\"TicketType\"] = \"\"\n",
    "    data.loc[data[\"Fare\"] == 0, \"TicketType\"] = \"NoFare\"\n",
    "    data.loc[(data[\"Fare\"] > 0) & (data[\"Fare\"] <= 8), \"TicketType\"] = \"ThirdClass\"\n",
    "    data.loc[(data[\"Fare\"] > 8) & (data[\"Fare\"] <= 30), \"TicketType\"] = \"SecondClass\"\n",
    "    data.loc[(data[\"Fare\"] > 30) & (data[\"Fare\"] < 870), \"TicketType\"] = \"FirstClassBerth\"\n",
    "    #data.loc[(data[\"Fare\"] > 30) & (data[\"Fare\"] <= 75), \"TicketType\"] = \"FirstClassBerthA\" #Splitting as there appears to be less survival below 75 fare\n",
    "    #data.loc[(data[\"Fare\"] > 75) & (data[\"Fare\"] < 870), \"TicketType\"] = \"FirstClassBerthB\"\n",
    "    data.loc[data[\"Fare\"] >= 870, \"TicketType\"] = \"FirstClassParlourSuite\" #Doesn't look like any data points hit this but leaving in anyway\n",
    "    \n",
    "def SetColumnDefaults(data):\n",
    "    data.Embarked.fillna('S', inplace=True)\n",
    "    data.loc[data[\"Embarked\"] == \"\", \"Embarked\"] = \"S\"\n",
    "    data.Cabin.fillna('Z', inplace=True)\n",
    "    data.Age.fillna((data[\"Age\"].median()), inplace=True)\n",
    "    data.Fare.fillna((data[\"Fare\"].median()), inplace=True)\n",
    "    \n",
    "def PrepData(data):\n",
    "    SetColumnDefaults(data)\n",
    "    TitleCategory(data)\n",
    "    HasCabin(data)\n",
    "    CombineFamily(data)\n",
    "    CabinType(data)\n",
    "    AgeBracketsCategory(data)\n",
    "    FareBracketsCategory(data)"
   ]
  },
  {
   "cell_type": "code",
   "execution_count": 89,
   "metadata": {},
   "outputs": [],
   "source": [
    "from numbers import Number\n",
    "def plot_survival_per_feature(data, feature, categorical = False):\n",
    "    if not np.issubdtype(data[feature].dtype, np.number) or categorical == True:\n",
    "        stacked = data.groupby([feature, 'Survived'])[feature].count().unstack('Survived').fillna(0)\n",
    "        stacked.plot(kind='bar', stacked=True)\n",
    "    else:\n",
    "        grouped_by_survival = data[feature].groupby(data[\"Survived\"])\n",
    "        survival_per_feature = pd.DataFrame({\"Survived\": grouped_by_survival.get_group(1),\n",
    "                                        \"didnt_Survive\": grouped_by_survival.get_group(0),\n",
    "                                        })\n",
    "        hist = survival_per_feature.plot.hist(bins=20, alpha=0.6, stacked = True)\n",
    "        hist.set_xlabel(feature)\n",
    "        plt.show()\n",
    "        \n",
    "def plot_survival_per_feature_grouping(data, feature, grouping):\n",
    "    stacked = data.groupby([feature, grouping])[feature].count().unstack(grouping).fillna(0)\n",
    "    stacked.plot(kind='bar', stacked=True)"
   ]
  },
  {
   "cell_type": "code",
   "execution_count": 90,
   "metadata": {},
   "outputs": [
    {
     "data": {
      "image/png": "[encoded data removed]",
      "text/plain": [
       "<Figure size 432x288 with 1 Axes>"
      ]
     },
     "metadata": {},
     "output_type": "display_data"
    },
    {
     "data": {
      "image/png": "[encoded data removed]",
      "text/plain": [
       "<Figure size 432x288 with 1 Axes>"
      ]
     },
     "metadata": {},
     "output_type": "display_data"
    },
    {
     "data": {
      "image/png": "[encoded data removed]",
      "text/plain": [
       "<Figure size 432x288 with 1 Axes>"
      ]
     },
     "metadata": {},
     "output_type": "display_data"
    },
    {
     "data": {
      "image/png": "[encoded data removed]",
      "text/plain": [
       "<Figure size 432x288 with 1 Axes>"
      ]
     },
     "metadata": {},
     "output_type": "display_data"
    },
    {
     "data": {
      "image/png": "[encoded data removed]",
      "text/plain": [
       "<Figure size 432x288 with 1 Axes>"
      ]
     },
     "metadata": {},
     "output_type": "display_data"
    },
    {
     "data": {
      "image/png": "[encoded data removed]",
      "text/plain": [
       "<Figure size 432x288 with 1 Axes>"
      ]
     },
     "metadata": {},
     "output_type": "display_data"
    },
    {
     "data": {
      "image/png": "[encoded data removed]",
      "text/plain": [
       "<Figure size 432x288 with 1 Axes>"
      ]
     },
     "metadata": {},
     "output_type": "display_data"
    }
   ],
   "source": [
    "titanic_analysis = titanic_train.copy()\n",
    "\n",
    "#TitanicDataPreparation.SetColumnDefaults(titanic_analysis)\n",
    "TitanicDataPreparation.PrepData(titanic_analysis)\n",
    "plot_survival_per_feature(titanic_analysis, \"Sex\")\n",
    "plot_survival_per_feature(titanic_analysis, \"Pclass\")\n",
    "plot_survival_per_feature(titanic_analysis, \"Embarked\")\n",
    "plot_survival_per_feature(titanic_analysis, \"AgeBracket\")\n",
    "plot_survival_per_feature(titanic_analysis, \"Title\")\n",
    "plot_survival_per_feature(titanic_analysis, \"TicketType\")\n",
    "\n",
    "plot_survival_per_feature_grouping(titanic_analysis, \"Embarked\", \"Pclass\")"
   ]
  },
  {
   "cell_type": "code",
   "execution_count": 91,
   "metadata": {},
   "outputs": [
    {
     "name": "stdout",
     "output_type": "stream",
     "text": [
      "['Age', 'Fare', 'Family', 'HasCabin']\n",
      "['Sex', 'Embarked', 'Pclass', 'Title', 'TicketType', 'AgeBracket']\n",
      "   PassengerId  Survived  Pclass  \\\n",
      "0            1         0       3   \n",
      "1            2         1       1   \n",
      "2            3         1       3   \n",
      "3            4         1       1   \n",
      "4            5         0       3   \n",
      "5            6         0       3   \n",
      "6            7         0       1   \n",
      "7            8         0       3   \n",
      "8            9         1       3   \n",
      "9           10         1       2   \n",
      "\n",
      "                                                Name     Sex   Age  SibSp  \\\n",
      "0                            Braund, Mr. Owen Harris    male  22.0      1   \n",
      "1  Cumings, Mrs. John Bradley (Florence Briggs Th...  female  38.0      1   \n",
      "2                             Heikkinen, Miss. Laina  female  26.0      0   \n",
      "3       Futrelle, Mrs. Jacques Heath (Lily May Peel)  female  35.0      1   \n",
      "4                           Allen, Mr. William Henry    male  35.0      0   \n",
      "5                                   Moran, Mr. James    male  28.0      0   \n",
      "6                            McCarthy, Mr. Timothy J    male  54.0      0   \n",
      "7                     Palsson, Master. Gosta Leonard    male   2.0      3   \n",
      "8  Johnson, Mrs. Oscar W (Elisabeth Vilhelmina Berg)  female  27.0      0   \n",
      "9                Nasser, Mrs. Nicholas (Adele Achem)  female  14.0      1   \n",
      "\n",
      "   Parch            Ticket     Fare Cabin Embarked    Title  HasCabin  Family  \\\n",
      "0      0         A/5 21171   7.2500     Z        S      Mr.         1       1   \n",
      "1      0          PC 17599  71.2833   C85        C     Mrs.         1       1   \n",
      "2      0  STON/O2. 3101282   7.9250     Z        S    Miss.         1       0   \n",
      "3      0            113803  53.1000  C123        S     Mrs.         1       1   \n",
      "4      0            373450   8.0500     Z        S      Mr.         1       0   \n",
      "5      0            330877   8.4583     Z        Q      Mr.         1       0   \n",
      "6      0             17463  51.8625   E46        S      Mr.         1       0   \n",
      "7      1            349909  21.0750     Z        S  Master.         1       4   \n",
      "8      2            347742  11.1333     Z        S     Mrs.         1       2   \n",
      "9      0            237736  30.0708     Z        C     Mrs.         1       1   \n",
      "\n",
      "  CabinLetter AgeBracket       TicketType  \n",
      "0           Z      Adult       ThirdClass  \n",
      "1           C      Adult  FirstClassBerth  \n",
      "2           Z      Adult       ThirdClass  \n",
      "3           C      Adult  FirstClassBerth  \n",
      "4           Z      Adult      SecondClass  \n",
      "5           Z      Adult      SecondClass  \n",
      "6           E   OldAdult  FirstClassBerth  \n",
      "7           Z       Baby      SecondClass  \n",
      "8           Z      Adult      SecondClass  \n",
      "9           Z   OldChild  FirstClassBerth  \n",
      "<class 'pandas.core.frame.DataFrame'>\n",
      "RangeIndex: 891 entries, 0 to 890\n",
      "Data columns (total 18 columns):\n",
      "PassengerId    891 non-null int64\n",
      "Survived       891 non-null int64\n",
      "Pclass         891 non-null int64\n",
      "Name           891 non-null object\n",
      "Sex            891 non-null object\n",
      "Age            891 non-null float64\n",
      "SibSp          891 non-null int64\n",
      "Parch          891 non-null int64\n",
      "Ticket         891 non-null object\n",
      "Fare           891 non-null float64\n",
      "Cabin          891 non-null object\n",
      "Embarked       891 non-null object\n",
      "Title          891 non-null object\n",
      "HasCabin       891 non-null int64\n",
      "Family         891 non-null int64\n",
      "CabinLetter    891 non-null object\n",
      "AgeBracket     891 non-null object\n",
      "TicketType     891 non-null object\n",
      "dtypes: float64(2), int64(7), object(9)\n",
      "memory usage: 125.4+ KB\n",
      "None\n"
     ]
    }
   ],
   "source": [
    "from sklearn.base import BaseEstimator, TransformerMixin\n",
    "class DataFrameSelector(BaseEstimator, TransformerMixin):\n",
    "    def __init__(self, attribute_names):\n",
    "        self.attribute_names = attribute_names\n",
    "    def fit(self, X, y=None):\n",
    "        return self\n",
    "    def transform(self, X):\n",
    "        return X[self.attribute_names].values\n",
    "\n",
    "titanic_training = titanic_train.copy()\n",
    "\n",
    "cat_attribs = [\"Sex\",\"Embarked\",\"Pclass\",\"Title\",\"TicketType\",\"AgeBracket\"]\n",
    "num_attribs = [\"Age\", \"Fare\", \"Family\",\"HasCabin\"]\n",
    "print(num_attribs)\n",
    "print(cat_attribs)\n",
    "\n",
    "from sklearn.pipeline import Pipeline\n",
    "from sklearn.preprocessing import StandardScaler\n",
    "from sklearn.preprocessing import Imputer\n",
    "from future_encoders import OneHotEncoder\n",
    "from sklearn.pipeline import FeatureUnion\n",
    "\n",
    "num_pipeline = Pipeline([\n",
    "    ('selector', DataFrameSelector(num_attribs)),\n",
    "    #('imputer', Imputer(strategy=\"median\")),\n",
    "    ('std_scaler', StandardScaler()),\n",
    "])\n",
    "\n",
    "cat_pipeline = Pipeline([\n",
    "    ('selector', DataFrameSelector(cat_attribs)),\n",
    "    ('cat_encoder', OneHotEncoder(sparse=False)),\n",
    "])\n",
    "\n",
    "full_pipeline = FeatureUnion(transformer_list=[\n",
    "    (\"num_pipeline\", num_pipeline),\n",
    "    (\"cat_pipeline\", cat_pipeline),\n",
    "])\n",
    "\n",
    "train_labels = titanic_training[\"Survived\"]\n",
    "TitanicDataPreparation.PrepData(titanic_training)\n",
    "\n",
    "print(titanic_training.head(10))\n",
    "print(titanic_training.info())\n",
    "titanic_prepared = full_pipeline.fit_transform(titanic_training)"
   ]
  },
  {
   "cell_type": "code",
   "execution_count": 92,
   "metadata": {},
   "outputs": [
    {
     "name": "stdout",
     "output_type": "stream",
     "text": [
      "LR: 0.823820 (0.030815)\n",
      "LDA: 0.815955 (0.031339)\n",
      "KNN: 0.822772 (0.049654)\n",
      "CART: 0.782335 (0.054045)\n",
      "NB: 0.766567 (0.038444)\n",
      "SVM: 0.831673 (0.042232)\n",
      "SGD: 0.710412 (0.135328)\n",
      "RF: 0.795818 (0.039867)\n"
     ]
    }
   ],
   "source": [
    "#Using iris example as a way of throwing a few algorithms at the issue and see how they perform\n",
    "from pandas.plotting import scatter_matrix\n",
    "from sklearn import model_selection\n",
    "from sklearn.metrics import classification_report\n",
    "from sklearn.metrics import confusion_matrix\n",
    "from sklearn.metrics import accuracy_score\n",
    "from sklearn.linear_model import LogisticRegression\n",
    "from sklearn.tree import DecisionTreeClassifier\n",
    "from sklearn.neighbors import KNeighborsClassifier\n",
    "from sklearn.discriminant_analysis import LinearDiscriminantAnalysis\n",
    "from sklearn.naive_bayes import GaussianNB\n",
    "from sklearn.svm import SVC\n",
    "from sklearn.ensemble import RandomForestClassifier\n",
    "from sklearn.linear_model import SGDClassifier\n",
    "# Test options and evaluation metric\n",
    "seed = 42\n",
    "scoring = 'accuracy'\n",
    "\n",
    "# Spot Check Algorithms\n",
    "models = []\n",
    "models.append(('LR', LogisticRegression()))\n",
    "models.append(('LDA', LinearDiscriminantAnalysis()))\n",
    "models.append(('KNN', KNeighborsClassifier()))\n",
    "models.append(('CART', DecisionTreeClassifier()))\n",
    "models.append(('NB', GaussianNB()))\n",
    "models.append(('SVM', SVC()))\n",
    "models.append(('SGD', SGDClassifier()))\n",
    "models.append(('RF', RandomForestClassifier()))\n",
    "# evaluate each model in turn\n",
    "results = []\n",
    "names = []\n",
    "for name, model in models:\n",
    "    kfold = model_selection.KFold(n_splits=10, random_state=seed)\n",
    "    cv_results = model_selection.cross_val_score(model, titanic_prepared, train_labels, cv=kfold, scoring=scoring)\n",
    "    results.append(cv_results)\n",
    "    names.append(name)\n",
    "    msg = \"%s: %f (%f)\" % (name, cv_results.mean(), cv_results.std())\n",
    "    print(msg)"
   ]
  },
  {
   "cell_type": "code",
   "execution_count": 93,
   "metadata": {},
   "outputs": [
    {
     "data": {
      "image/png": "[encoded data removed]",
      "text/plain": [
       "<Figure size 432x288 with 1 Axes>"
      ]
     },
     "metadata": {},
     "output_type": "display_data"
    }
   ],
   "source": [
    "# Compare Algorithms\n",
    "fig = plt.figure()\n",
    "fig.suptitle('Algorithm Comparison')\n",
    "ax = fig.add_subplot(111)\n",
    "plt.boxplot(results)\n",
    "ax.set_xticklabels(names)\n",
    "plt.show()"
   ]
  },
  {
   "cell_type": "markdown",
   "metadata": {},
   "source": [
    "From this brief comparison it looks like LR, LDA, KNN, SVM and RF are ok. However with this type of problem a confusion matrix is often useful to see how the precision and recall tradeoff is going. \n",
    "The top left  are true  negatives (survived = 0, pred_survived = 0)\n",
    "The top right are false positives (survived = 0, pred_survived = 1)\n",
    "Bottom left   are false negatives (survived = 1, pred_survived = 0) \n",
    "Bottom right  are true  postivies (survived = 1, pred_survived = 1)"
   ]
  },
  {
   "cell_type": "code",
   "execution_count": 94,
   "metadata": {},
   "outputs": [
    {
     "name": "stdout",
     "output_type": "stream",
     "text": [
      "Name: LR\n",
      "Model: LogisticRegression(C=1.0, class_weight=None, dual=False, fit_intercept=True,\n",
      "          intercept_scaling=1, max_iter=100, multi_class='ovr', n_jobs=1,\n",
      "          penalty='l2', random_state=None, solver='liblinear', tol=0.0001,\n",
      "          verbose=0, warm_start=False)\n",
      "[[481  68]\n",
      " [ 90 252]]\n",
      "Precision: 0.7875\n",
      "Recall: 0.7368421052631579\n",
      "F1_Score: 0.7613293051359517\n",
      "\n",
      "Name: LDA\n",
      "Model: LinearDiscriminantAnalysis(n_components=None, priors=None, shrinkage=None,\n",
      "              solver='svd', store_covariance=False, tol=0.0001)\n",
      "[[478  71]\n",
      " [ 93 249]]\n",
      "Precision: 0.778125\n",
      "Recall: 0.7280701754385965\n",
      "F1_Score: 0.7522658610271903\n",
      "\n",
      "Name: KNN\n",
      "Model: KNeighborsClassifier(algorithm='auto', leaf_size=30, metric='minkowski',\n",
      "           metric_params=None, n_jobs=1, n_neighbors=5, p=2,\n",
      "           weights='uniform')\n",
      "[[481  68]\n",
      " [ 85 257]]\n",
      "Precision: 0.7907692307692308\n",
      "Recall: 0.7514619883040936\n",
      "F1_Score: 0.7706146926536731\n",
      "\n",
      "Name: CART\n",
      "Model: DecisionTreeClassifier(class_weight=None, criterion='gini', max_depth=None,\n",
      "            max_features=None, max_leaf_nodes=None,\n",
      "            min_impurity_decrease=0.0, min_impurity_split=None,\n",
      "            min_samples_leaf=1, min_samples_split=2,\n",
      "            min_weight_fraction_leaf=0.0, presort=False, random_state=None,\n",
      "            splitter='best')\n",
      "[[447 102]\n",
      " [ 93 249]]\n",
      "Precision: 0.7094017094017094\n",
      "Recall: 0.7280701754385965\n",
      "F1_Score: 0.7186147186147186\n",
      "\n",
      "Name: NB\n",
      "Model: GaussianNB(priors=None)\n",
      "[[415 134]\n",
      " [ 69 273]]\n",
      "Precision: 0.6707616707616708\n",
      "Recall: 0.7982456140350878\n",
      "F1_Score: 0.7289719626168225\n",
      "\n",
      "Name: SVM\n",
      "Model: SVC(C=1.0, cache_size=200, class_weight=None, coef0=0.0,\n",
      "  decision_function_shape='ovr', degree=3, gamma='auto', kernel='rbf',\n",
      "  max_iter=-1, probability=False, random_state=None, shrinking=True,\n",
      "  tol=0.001, verbose=False)\n",
      "[[489  60]\n",
      " [ 90 252]]\n",
      "Precision: 0.8076923076923077\n",
      "Recall: 0.7368421052631579\n",
      "F1_Score: 0.7706422018348624\n",
      "\n",
      "Name: SGD\n",
      "Model: SGDClassifier(alpha=0.0001, average=False, class_weight=None, epsilon=0.1,\n",
      "       eta0=0.0, fit_intercept=True, l1_ratio=0.15,\n",
      "       learning_rate='optimal', loss='hinge', max_iter=None, n_iter=None,\n",
      "       n_jobs=1, penalty='l2', power_t=0.5, random_state=None,\n",
      "       shuffle=True, tol=None, verbose=0, warm_start=False)\n",
      "[[457  92]\n",
      " [141 201]]\n",
      "Precision: 0.6860068259385665\n",
      "Recall: 0.5877192982456141\n",
      "F1_Score: 0.6330708661417322\n",
      "\n",
      "Name: RF\n",
      "Model: RandomForestClassifier(bootstrap=True, class_weight=None, criterion='gini',\n",
      "            max_depth=None, max_features='auto', max_leaf_nodes=None,\n",
      "            min_impurity_decrease=0.0, min_impurity_split=None,\n",
      "            min_samples_leaf=1, min_samples_split=2,\n",
      "            min_weight_fraction_leaf=0.0, n_estimators=10, n_jobs=1,\n",
      "            oob_score=False, random_state=None, verbose=0,\n",
      "            warm_start=False)\n",
      "[[469  80]\n",
      " [ 99 243]]\n",
      "Precision: 0.7523219814241486\n",
      "Recall: 0.7105263157894737\n",
      "F1_Score: 0.7308270676691729\n",
      "\n"
     ]
    }
   ],
   "source": [
    "from sklearn.model_selection import cross_val_predict\n",
    "from sklearn.metrics import confusion_matrix\n",
    "from sklearn.metrics import precision_score, recall_score, f1_score\n",
    "from sklearn.metrics import roc_curve\n",
    "from sklearn.metrics import precision_recall_curve\n",
    "\n",
    "def ConfusionMatrixPrecisionRecall(model, training_data, training_labels):\n",
    "    cross_val_predictions = cross_val_predict(model, training_data, training_labels, cv=10)\n",
    "    print(confusion_matrix(training_labels, cross_val_predictions))\n",
    "    print(\"Precision:\", precision_score(training_labels, cross_val_predictions))\n",
    "    print(\"Recall:\", recall_score(training_labels, cross_val_predictions))\n",
    "    print(\"F1_Score:\", f1_score(training_labels, cross_val_predictions))\n",
    "    \n",
    "\n",
    "for name, model in models:\n",
    "    print (\"Name:\", name)\n",
    "    print (\"Model:\", model)\n",
    "    ConfusionMatrixPrecisionRecall(model, titanic_prepared, train_labels)\n",
    "    print()\n",
    "    \n",
    "#ConfusionMatrixPrecisionRecall(forest_clf, titanic_prepared, train_labels)"
   ]
  },
  {
   "cell_type": "markdown",
   "metadata": {},
   "source": [
    "Kind of reinforces what was known but does show som interesting patterns. Originally I had trained with SGD, KNN and Random Forests but I switched to LR after looking at more algorithms and now I'll consider only the best 3 which are:\n",
    "SVM/SVC\n",
    "KNN\n",
    "LR\n",
    "Now into some hyperparameter turning to get the most out of the algorithms"
   ]
  },
  {
   "cell_type": "code",
   "execution_count": null,
   "metadata": {},
   "outputs": [],
   "source": [
    "from sklearn.model_selection import GridSearchCV\n",
    "\n",
    "param_grid_knn = [\n",
    "    {'n_neighbors': [1,2,3,4,5,6,7,8,9,10,11], 'weights': [\"uniform\",\"distance\"]},\n",
    "]\n",
    "\n",
    "knn_clf = KNeighborsClassifier(n_jobs=-1)\n",
    "grid_search_knn = GridSearchCV(knn_clf, param_grid_knn, cv=5)\n",
    "grid_search_knn.fit(titanic_prepared, train_labels)"
   ]
  },
  {
   "cell_type": "code",
   "execution_count": null,
   "metadata": {},
   "outputs": [],
   "source": [
    "param_grid_lr = [\n",
    "    {'C': [0.1,0.4,0.446,0.4462,0.45,0.455,0.5,0.55,0.6,1]},\n",
    "]\n",
    "\n",
    "lr_clf = LogisticRegression()\n",
    "grid_search_lr = GridSearchCV(lr_clf, param_grid_lr, cv=5)\n",
    "grid_search_lr.fit(titanic_prepared, train_labels)"
   ]
  },
  {
   "cell_type": "code",
   "execution_count": null,
   "metadata": {},
   "outputs": [],
   "source": [
    "param_grid_svc = [\n",
    "    {'C': [0.1,0.5,1.0,5.0,10.0], 'kernel' : [\"linear\", \"poly\", \"rbf\"]},\n",
    "]\n",
    "\n",
    "svc_clf = SVC()\n",
    "grid_search_svc = GridSearchCV(svc_clf, param_grid_svc, cv=5)\n",
    "grid_search_svc.fit(titanic_prepared, train_labels)"
   ]
  },
  {
   "cell_type": "code",
   "execution_count": null,
   "metadata": {},
   "outputs": [],
   "source": [
    "print(grid_search_knn.best_params_)\n",
    "print(grid_search_knn.best_estimator_)\n",
    "\n",
    "#cvres = grid_search_knn.cv_results_\n",
    "#for mean_score, params in zip(cvres[\"mean_test_score\"], cvres[\"params\"]):\n",
    "#    print(np.sqrt(mean_score), mean_score, params)\n",
    "\n",
    "print(grid_search_lr.best_params_)\n",
    "print(grid_search_lr.best_estimator_)\n",
    "\n",
    "print(grid_search_svc.best_params_)\n",
    "print(grid_search_svc.best_estimator_)"
   ]
  },
  {
   "cell_type": "markdown",
   "metadata": {},
   "source": [
    "So now re-train the models and re-evaluate the confusion matrices"
   ]
  },
  {
   "cell_type": "code",
   "execution_count": null,
   "metadata": {},
   "outputs": [],
   "source": [
    "knn_clf_best_params = KNeighborsClassifier(n_jobs=-1, n_neighbors=6, weights='uniform')\n",
    "knn_clf_best_params.fit(titanic_prepared, train_labels)\n",
    "ConfusionMatrixPrecisionRecall(knn_clf_best_params, titanic_prepared, train_labels)"
   ]
  },
  {
   "cell_type": "code",
   "execution_count": null,
   "metadata": {},
   "outputs": [],
   "source": [
    "lr_clf_best_params = LogisticRegression(C=0.55)\n",
    "lr_clf_best_params.fit(titanic_prepared, train_labels)\n",
    "ConfusionMatrixPrecisionRecall(lr_clf_best_params, titanic_prepared, train_labels)"
   ]
  },
  {
   "cell_type": "code",
   "execution_count": null,
   "metadata": {},
   "outputs": [],
   "source": [
    "svc_clf_best_params = SVC(C=5.0, kernel='rbf')\n",
    "svc_clf_best_params.fit(titanic_prepared, train_labels)\n",
    "ConfusionMatrixPrecisionRecall(svc_clf_best_params, titanic_prepared, train_labels)"
   ]
  },
  {
   "cell_type": "markdown",
   "metadata": {},
   "source": [
    "SVC is still coming out on top so have a go with submitting that file"
   ]
  },
  {
   "cell_type": "code",
   "execution_count": null,
   "metadata": {},
   "outputs": [],
   "source": [
    "TitanicDataPreparation.PrepData(titanic_test)\n",
    "#titanic_test.Fare.fillna((titanic_test[\"Fare\"].median()), inplace=True)\n",
    "titanic_test.info()\n",
    "titanic_test_prepared = full_pipeline.fit_transform(titanic_test)\n",
    "print(titanic_test_prepared[0])\n",
    "print(titanic_prepared[0])\n",
    "\n",
    "print(list(num_attribs), cat_attribs)\n",
    "\n",
    "test_predictions = svc_clf_best_params.predict(titanic_test_prepared)\n",
    "titanic_test_output = [titanic_test, test_predictions]\n",
    "submission = pd.DataFrame({\n",
    "        \"PassengerId\": titanic_test[\"PassengerId\"],\n",
    "        \"Survived\": test_predictions\n",
    "    })\n",
    "print(submission)\n",
    "submission.to_csv('titanic_predictions_SVC_C5p0_K_RBF.csv', index=False)"
   ]
  },
  {
   "cell_type": "markdown",
   "metadata": {},
   "source": [
    "This got me 0.78947 and ranked 3117 on Kaggle out of ~9000 so not bad! This is after much messing about which is hidden in other files. Next steps would be to revisit the data preparation phase and look more closely at what can be done there. For instance there were a large number of missing ages and doing median on them all doesn't feel right. Should instead split by title or something to get a better estimate for the missing values. My aim is 80% or better so I'm not done with this one yet! It's been very useful for learning key parts about data preparation and model selection/tuning. I need to understand more about the anyalysis phase and how to derive new fields/values in a better way."
   ]
  }
 ],
 "metadata": {
  "kernelspec": {
   "display_name": "Python 3",
   "language": "python",
   "name": "python3"
  },
  "language_info": {
   "codemirror_mode": {
    "name": "ipython",
    "version": 3
   },
   "file_extension": ".py",
   "mimetype": "text/x-python",
   "name": "python",
   "nbconvert_exporter": "python",
   "pygments_lexer": "ipython3",
   "version": "3.5.5"
  }
 },
 "nbformat": 4,
 "nbformat_minor": 2
}
